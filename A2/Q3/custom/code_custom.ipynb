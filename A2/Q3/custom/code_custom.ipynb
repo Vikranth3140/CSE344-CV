{
 "cells": [
  {
   "cell_type": "code",
   "execution_count": 4,
   "metadata": {},
   "outputs": [],
   "source": [
    "import cv2\n",
    "import numpy as np\n",
    "import glob\n",
    "import os\n",
    "import matplotlib.pyplot as plt\n",
    "\n",
    "\n",
    "chessboard_size = (8, 6)\n",
    "square_size = 30\n",
    "\n",
    "# 3D object points\n",
    "objp = np.zeros((chessboard_size[0] * chessboard_size[1], 3), np.float32)\n",
    "objp[:, :2] = np.mgrid[0:chessboard_size[0], 0:chessboard_size[1]].T.reshape(-1, 2)\n",
    "objp *= square_size\n",
    "\n",
    "objpoints = []\n",
    "imgpoints = []\n",
    "\n",
    "images = glob.glob('../custom_dataset/*.jpg')\n",
    "\n",
    "for file_name in images:\n",
    "    img = cv2.imread(file_name)\n",
    "    gray = cv2.cvtColor(img, cv2.COLOR_BGR2GRAY)\n",
    "\n",
    "    # Chessboard Corners\n",
    "    ret, corners = cv2.findChessboardCorners(gray, chessboard_size, None)\n",
    "\n",
    "    if ret:\n",
    "        objpoints.append(objp)\n",
    "        corners_refined = cv2.cornerSubPix(gray, corners, (11, 11), (-1, -1), criteria=(cv2.TERM_CRITERIA_EPS + cv2.TERM_CRITERIA_MAX_ITER, 30, 0.001))\n",
    "        imgpoints.append(corners_refined)\n",
    "        cv2.drawChessboardCorners(img, chessboard_size, corners_refined, ret)\n",
    "        cv2.imshow('Corners', img)\n",
    "        cv2.waitKey(500)\n",
    "    else:\n",
    "        print(f\"Corners not found in {file_name}\")\n",
    "\n",
    "cv2.destroyAllWindows()\n",
    "\n",
    "ret, mtx, dist, rvecs, tvecs = cv2.calibrateCamera(objpoints, imgpoints, gray.shape[::-1], None, None)"
   ]
  },
  {
   "cell_type": "markdown",
   "metadata": {},
   "source": [
    "# 3.1 - Intrinsic Camera Parameters"
   ]
  },
  {
   "cell_type": "code",
   "execution_count": 5,
   "metadata": {},
   "outputs": [
    {
     "name": "stdout",
     "output_type": "stream",
     "text": [
      "Intrinsic Matrix (K):\n",
      "[[1.30650443e+03 0.00000000e+00 6.31947651e+02]\n",
      " [0.00000000e+00 1.31941647e+03 5.31411939e+02]\n",
      " [0.00000000e+00 0.00000000e+00 1.00000000e+00]]\n",
      "Focal Lengths: fx = 1306.50, fy = 1319.42 pixels\n",
      "Principal Point: cx = 631.95, cy = 531.41 pixels\n",
      "Skew Parameter: 0.00\n",
      "Reprojection Error: 1.8691 pixels\n"
     ]
    }
   ],
   "source": [
    "print(\"Intrinsic Matrix (K):\")\n",
    "print(mtx)\n",
    "\n",
    "# Extract intrinsic parameters\n",
    "fx, fy = mtx[0, 0], mtx[1, 1]\n",
    "print(f\"Focal Lengths: fx = {fx:.2f}, fy = {fy:.2f} pixels\")\n",
    "\n",
    "cx, cy = mtx[0, 2], mtx[1, 2]\n",
    "print(f\"Principal Point: cx = {cx:.2f}, cy = {cy:.2f} pixels\")\n",
    "\n",
    "skew = mtx[0, 1]\n",
    "print(f\"Skew Parameter: {skew:.2f}\")\n",
    "\n",
    "print(f\"Reprojection Error: {ret:.4f} pixels\")"
   ]
  },
  {
   "cell_type": "markdown",
   "metadata": {},
   "source": [
    "# 3.2 - Extrinsic Camera Parameters"
   ]
  },
  {
   "cell_type": "code",
   "execution_count": 6,
   "metadata": {},
   "outputs": [
    {
     "name": "stdout",
     "output_type": "stream",
     "text": [
      "\n",
      "Extrinsic Parameters for First 2 Images:\n",
      "\n",
      "Image 1:\n",
      "Rotation Matrix (R):\n",
      "[[ 0.07173739  0.99658906  0.04079217]\n",
      " [-0.84302223  0.038724    0.53648296]\n",
      " [ 0.53307341 -0.0728746   0.84292469]]\n",
      "Translation Vector (t):\n",
      "[[-48.40408507]\n",
      " [120.3335496 ]\n",
      " [455.45193068]]\n",
      "\n",
      "Image 2:\n",
      "Rotation Matrix (R):\n",
      "[[ 0.74750942  0.66145545 -0.06087978]\n",
      " [-0.50668867  0.6270634   0.59165706]\n",
      " [ 0.42953027 -0.41142214  0.80388779]]\n",
      "Translation Vector (t):\n",
      "[[-137.16624448]\n",
      " [ 158.24317515]\n",
      " [ 608.50635196]]\n"
     ]
    }
   ],
   "source": [
    "print(\"\\nExtrinsic Parameters for First 2 Images:\")\n",
    "for i in range(min(2, len(rvecs))):\n",
    "    R, _ = cv2.Rodrigues(rvecs[i])\n",
    "    t = tvecs[i]\n",
    "    print(f\"\\nImage {i+1}:\")\n",
    "    print(\"Rotation Matrix (R):\")\n",
    "    print(R)\n",
    "    print(\"Translation Vector (t):\")\n",
    "    print(t)"
   ]
  },
  {
   "cell_type": "markdown",
   "metadata": {},
   "source": [
    "# 3.3 - Radial Distortion Coefficients"
   ]
  },
  {
   "cell_type": "code",
   "execution_count": 7,
   "metadata": {},
   "outputs": [
    {
     "name": "stdout",
     "output_type": "stream",
     "text": [
      "\n",
      "Distortion Coefficients:\n",
      "[[-0.23592874  0.67182843 -0.02704358  0.00346771 -0.70792782]]\n"
     ]
    }
   ],
   "source": [
    "print(\"\\nDistortion Coefficients:\")\n",
    "print(dist)\n",
    "\n",
    "os.makedirs('raw_images', exist_ok=True)\n",
    "os.makedirs('undistorted_images', exist_ok=True)\n",
    "\n",
    "# Undistort the first 5 images\n",
    "for i, file_name in enumerate(images[:5]):\n",
    "    img = cv2.imread(file_name)\n",
    "    if img is None:\n",
    "        print(f\"Failed to load {file_name} for undistortion\")\n",
    "        continue\n",
    "\n",
    "    raw_path = f'raw_images/raw_image_{i+1:02d}.jpeg'\n",
    "    cv2.imwrite(raw_path, img)\n",
    "\n",
    "    # Undistort the image\n",
    "    undistorted_img = cv2.undistort(img, mtx, dist, None, mtx)\n",
    "\n",
    "    undistorted_path = f'undistorted_images/undistorted_image_{i+1:02d}.jpeg'\n",
    "    cv2.imwrite(undistorted_path, undistorted_img)"
   ]
  },
  {
   "cell_type": "markdown",
   "metadata": {},
   "source": [
    "# 3.4 - Re-Projection Error"
   ]
  },
  {
   "cell_type": "code",
   "execution_count": 8,
   "metadata": {},
   "outputs": [
    {
     "name": "stdout",
     "output_type": "stream",
     "text": [
      "Image 01 - Reprojection Error: 0.3172 pixels\n",
      "Image 02 - Reprojection Error: 0.1248 pixels\n",
      "Image 03 - Reprojection Error: 0.3472 pixels\n",
      "Image 04 - Reprojection Error: 0.3203 pixels\n",
      "Image 05 - Reprojection Error: 0.1732 pixels\n",
      "Image 06 - Reprojection Error: 0.2241 pixels\n",
      "Image 07 - Reprojection Error: 0.2066 pixels\n",
      "Image 08 - Reprojection Error: 0.2184 pixels\n",
      "Image 09 - Reprojection Error: 0.2650 pixels\n",
      "Image 10 - Reprojection Error: 0.2567 pixels\n",
      "Image 11 - Reprojection Error: 0.2168 pixels\n",
      "Image 12 - Reprojection Error: 0.1763 pixels\n",
      "Image 13 - Reprojection Error: 0.2654 pixels\n",
      "Image 14 - Reprojection Error: 0.2183 pixels\n",
      "Image 15 - Reprojection Error: 0.1676 pixels\n",
      "Image 16 - Reprojection Error: 0.2241 pixels\n",
      "Image 17 - Reprojection Error: 0.2406 pixels\n",
      "Image 18 - Reprojection Error: 0.1930 pixels\n",
      "Image 19 - Reprojection Error: 0.6814 pixels\n",
      "Image 20 - Reprojection Error: 0.1401 pixels\n",
      "Image 21 - Reprojection Error: 0.1874 pixels\n",
      "Image 22 - Reprojection Error: 0.2546 pixels\n",
      "Image 23 - Reprojection Error: 0.2913 pixels\n",
      "Image 24 - Reprojection Error: 0.2705 pixels\n",
      "Image 25 - Reprojection Error: 0.2485 pixels\n",
      "\n",
      "Mean Reprojection Error: 0.2492 pixels\n",
      "Standard Deviation: 0.1034 pixels\n"
     ]
    },
    {
     "data": {
      "image/png": "[encoded data removed]",
      "text/plain": [
       "<Figure size 1000x500 with 1 Axes>"
      ]
     },
     "metadata": {},
     "output_type": "display_data"
    }
   ],
   "source": [
    "reprojection_errors = []\n",
    "\n",
    "for i in range(len(objpoints)):\n",
    "    imgpoints2, _ = cv2.projectPoints(objpoints[i], rvecs[i], tvecs[i], mtx, dist)\n",
    "    error = cv2.norm(imgpoints[i], imgpoints2, cv2.NORM_L2) / len(imgpoints2)\n",
    "    reprojection_errors.append(error)\n",
    "\n",
    "# individual errors\n",
    "for i, err in enumerate(reprojection_errors):\n",
    "    print(f\"Image {i+1:02d} - Reprojection Error: {err:.4f} pixels\")\n",
    "\n",
    "# mean and standard deviation\n",
    "mean_error = np.mean(reprojection_errors)\n",
    "std_error = np.std(reprojection_errors)\n",
    "print(f\"\\nMean Reprojection Error: {mean_error:.4f} pixels\")\n",
    "print(f\"Standard Deviation: {std_error:.4f} pixels\")\n",
    "\n",
    "plt.figure(figsize=(10, 5))\n",
    "plt.bar(range(1, len(reprojection_errors)+1), reprojection_errors, color='royalblue')\n",
    "plt.axhline(mean_error, color='red', linestyle='--', label=f\"Mean = {mean_error:.4f}\")\n",
    "plt.title(\"Per-Image Reprojection Error\")\n",
    "plt.xlabel(\"Image Index\")\n",
    "plt.ylabel(\"Reprojection Error (pixels)\")\n",
    "plt.xticks(range(1, len(reprojection_errors)+1))\n",
    "plt.legend()\n",
    "plt.grid(True)\n",
    "plt.tight_layout()\n",
    "plt.savefig(\"reprojection_error_plot.png\")\n",
    "plt.show()"
   ]
  },
  {
   "cell_type": "markdown",
   "metadata": {},
   "source": [
    "# 3.5 - Corners Detected"
   ]
  },
  {
   "cell_type": "code",
   "execution_count": 9,
   "metadata": {},
   "outputs": [],
   "source": [
    "os.makedirs('reprojection_visuals', exist_ok=True)\n",
    "\n",
    "for i, file_name in enumerate(images):\n",
    "    img = cv2.imread(file_name)\n",
    "    if img is None:\n",
    "        print(f\"Failed to load {file_name}\")\n",
    "        continue\n",
    "\n",
    "    # Project object points using estimated parameters\n",
    "    imgpoints2, _ = cv2.projectPoints(objpoints[i], rvecs[i], tvecs[i], mtx, dist)\n",
    "\n",
    "    # Draw original detected corners (green) and reprojected corners (red)\n",
    "    for p1, p2 in zip(imgpoints[i], imgpoints2):\n",
    "        pt1 = tuple(np.round(p1.ravel()).astype(int))  # Detected\n",
    "        pt2 = tuple(np.round(p2.ravel()).astype(int))  # Reprojected\n",
    "        cv2.circle(img, pt1, 4, (0, 255, 0), -1)  # Green\n",
    "        cv2.circle(img, pt2, 2, (0, 0, 255), -1)  # Red\n",
    "\n",
    "    # Save image\n",
    "    out_path = f\"reprojection_visuals/reprojection_comparison_{i+1:02d}.jpeg\"\n",
    "    cv2.imwrite(out_path, img)"
   ]
  },
  {
   "cell_type": "markdown",
   "metadata": {},
   "source": [
    "# 3.6 - Checkerboard Plane Normals"
   ]
  },
  {
   "cell_type": "code",
   "execution_count": 10,
   "metadata": {},
   "outputs": [
    {
     "name": "stdout",
     "output_type": "stream",
     "text": [
      "Image 01 - Plane Normal (Camera Frame): [0.04079217 0.53648296 0.84292469]\n",
      "Image 02 - Plane Normal (Camera Frame): [-0.06087978  0.59165706  0.80388779]\n",
      "Image 03 - Plane Normal (Camera Frame): [0.37785269 0.13268537 0.91630887]\n",
      "Image 04 - Plane Normal (Camera Frame): [-0.43568572  0.62526014  0.64747797]\n",
      "Image 05 - Plane Normal (Camera Frame): [-0.24641055  0.37073319  0.89545449]\n",
      "Image 06 - Plane Normal (Camera Frame): [0.38033675 0.64320056 0.66455774]\n",
      "Image 07 - Plane Normal (Camera Frame): [-0.05397362  0.20087913  0.97812802]\n",
      "Image 08 - Plane Normal (Camera Frame): [0.27481746 0.71103838 0.64722468]\n",
      "Image 09 - Plane Normal (Camera Frame): [-0.09064862  0.72586098  0.68184211]\n",
      "Image 10 - Plane Normal (Camera Frame): [0.14050772 0.32569077 0.9349776 ]\n",
      "Image 11 - Plane Normal (Camera Frame): [0.11688001 0.56613103 0.81598696]\n",
      "Image 12 - Plane Normal (Camera Frame): [-0.0470609   0.03257829  0.99836062]\n",
      "Image 13 - Plane Normal (Camera Frame): [-0.14823305  0.41211664  0.89899212]\n",
      "Image 14 - Plane Normal (Camera Frame): [0.36275149 0.56828491 0.73855508]\n",
      "Image 15 - Plane Normal (Camera Frame): [0.10157754 0.07916255 0.99167298]\n",
      "Image 16 - Plane Normal (Camera Frame): [0.23857529 0.59602273 0.76670642]\n",
      "Image 17 - Plane Normal (Camera Frame): [0.06265055 0.18668666 0.98041981]\n",
      "Image 18 - Plane Normal (Camera Frame): [-0.32193488  0.51615939  0.79368597]\n",
      "Image 19 - Plane Normal (Camera Frame): [-0.23444451  0.68422356  0.69056057]\n",
      "Image 20 - Plane Normal (Camera Frame): [0.07009761 0.34120311 0.93737226]\n",
      "Image 21 - Plane Normal (Camera Frame): [-0.21349236  0.34599446  0.91362402]\n",
      "Image 22 - Plane Normal (Camera Frame): [0.16121956 0.05441965 0.98541705]\n",
      "Image 23 - Plane Normal (Camera Frame): [0.15584567 0.8196933  0.55119418]\n",
      "Image 24 - Plane Normal (Camera Frame): [-0.38253519  0.76517249  0.51785895]\n",
      "Image 25 - Plane Normal (Camera Frame): [-0.21382321  0.87811181  0.42801785]\n"
     ]
    }
   ],
   "source": [
    "plane_normals = []\n",
    "\n",
    "for i in range(len(rvecs)):\n",
    "    R, _ = cv2.Rodrigues(rvecs[i])         # Convert to rotation matrix\n",
    "    normal_ci = R[:, 2]                    # Third column is the Z-axis of the checkerboard in camera frame\n",
    "    plane_normals.append(normal_ci)\n",
    "    print(f\"Image {i+1:02d} - Plane Normal (Camera Frame): {normal_ci}\")"
   ]
  }
 ],
 "metadata": {
  "kernelspec": {
   "display_name": "Python 3",
   "language": "python",
   "name": "python3"
  },
  "language_info": {
   "codemirror_mode": {
    "name": "ipython",
    "version": 3
   },
   "file_extension": ".py",
   "mimetype": "text/x-python",
   "name": "python",
   "nbconvert_exporter": "python",
   "pygments_lexer": "ipython3",
   "version": "3.8.0"
  }
 },
 "nbformat": 4,
 "nbformat_minor": 2
}
