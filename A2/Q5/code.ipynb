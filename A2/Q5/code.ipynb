{
 "cells": [
  {
   "cell_type": "code",
   "execution_count": 1,
   "metadata": {},
   "outputs": [
    {
     "name": "stdout",
     "output_type": "stream",
     "text": [
      "Collecting open3d\n",
      "  Using cached open3d-0.19.0-cp312-cp312-win_amd64.whl.metadata (4.2 kB)\n",
      "Requirement already satisfied: scipy in c:\\users\\vikra\\onedrive\\desktop\\cse344-cv\\.venv\\lib\\site-packages (1.15.2)\n",
      "Requirement already satisfied: numpy in c:\\users\\vikra\\onedrive\\desktop\\cse344-cv\\.venv\\lib\\site-packages (2.2.4)\n",
      "Collecting dash>=2.6.0 (from open3d)\n",
      "  Using cached dash-3.0.2-py3-none-any.whl.metadata (10 kB)\n",
      "Requirement already satisfied: werkzeug>=3.0.0 in c:\\users\\vikra\\onedrive\\desktop\\cse344-cv\\.venv\\lib\\site-packages (from open3d) (3.0.6)\n",
      "Collecting flask>=3.0.0 (from open3d)\n",
      "  Using cached flask-3.1.0-py3-none-any.whl.metadata (2.7 kB)\n",
      "Collecting nbformat>=5.7.0 (from open3d)\n",
      "  Using cached nbformat-5.10.4-py3-none-any.whl.metadata (3.6 kB)\n",
      "Requirement already satisfied: configargparse in c:\\users\\vikra\\onedrive\\desktop\\cse344-cv\\.venv\\lib\\site-packages (from open3d) (1.7)\n",
      "Collecting ipywidgets>=8.0.4 (from open3d)\n",
      "  Using cached ipywidgets-8.1.5-py3-none-any.whl.metadata (2.3 kB)\n",
      "Collecting flask>=3.0.0 (from open3d)\n",
      "  Using cached flask-3.0.3-py3-none-any.whl.metadata (3.2 kB)\n",
      "Requirement already satisfied: plotly>=5.0.0 in c:\\users\\vikra\\onedrive\\desktop\\cse344-cv\\.venv\\lib\\site-packages (from dash>=2.6.0->open3d) (6.0.1)\n",
      "Collecting importlib-metadata (from dash>=2.6.0->open3d)\n",
      "  Using cached importlib_metadata-8.6.1-py3-none-any.whl.metadata (4.7 kB)\n",
      "Requirement already satisfied: typing-extensions>=4.1.1 in c:\\users\\vikra\\onedrive\\desktop\\cse344-cv\\.venv\\lib\\site-packages (from dash>=2.6.0->open3d) (4.13.0)\n",
      "Requirement already satisfied: requests in c:\\users\\vikra\\onedrive\\desktop\\cse344-cv\\.venv\\lib\\site-packages (from dash>=2.6.0->open3d) (2.32.3)\n",
      "Requirement already satisfied: retrying in c:\\users\\vikra\\onedrive\\desktop\\cse344-cv\\.venv\\lib\\site-packages (from dash>=2.6.0->open3d) (1.3.4)\n",
      "Requirement already satisfied: nest-asyncio in c:\\users\\vikra\\onedrive\\desktop\\cse344-cv\\.venv\\lib\\site-packages (from dash>=2.6.0->open3d) (1.6.0)\n",
      "Requirement already satisfied: setuptools in c:\\users\\vikra\\onedrive\\desktop\\cse344-cv\\.venv\\lib\\site-packages (from dash>=2.6.0->open3d) (78.1.0)\n",
      "Collecting Jinja2>=3.1.2 (from flask>=3.0.0->open3d)\n",
      "  Using cached jinja2-3.1.6-py3-none-any.whl.metadata (2.9 kB)\n",
      "Requirement already satisfied: itsdangerous>=2.1.2 in c:\\users\\vikra\\onedrive\\desktop\\cse344-cv\\.venv\\lib\\site-packages (from flask>=3.0.0->open3d) (2.2.0)\n",
      "Requirement already satisfied: click>=8.1.3 in c:\\users\\vikra\\onedrive\\desktop\\cse344-cv\\.venv\\lib\\site-packages (from flask>=3.0.0->open3d) (8.1.8)\n",
      "Requirement already satisfied: blinker>=1.6.2 in c:\\users\\vikra\\onedrive\\desktop\\cse344-cv\\.venv\\lib\\site-packages (from flask>=3.0.0->open3d) (1.9.0)\n",
      "Requirement already satisfied: comm>=0.1.3 in c:\\users\\vikra\\onedrive\\desktop\\cse344-cv\\.venv\\lib\\site-packages (from ipywidgets>=8.0.4->open3d) (0.2.2)\n",
      "Requirement already satisfied: ipython>=6.1.0 in c:\\users\\vikra\\onedrive\\desktop\\cse344-cv\\.venv\\lib\\site-packages (from ipywidgets>=8.0.4->open3d) (9.0.2)\n",
      "Requirement already satisfied: traitlets>=4.3.1 in c:\\users\\vikra\\onedrive\\desktop\\cse344-cv\\.venv\\lib\\site-packages (from ipywidgets>=8.0.4->open3d) (5.14.3)\n",
      "Requirement already satisfied: widgetsnbextension~=4.0.12 in c:\\users\\vikra\\onedrive\\desktop\\cse344-cv\\.venv\\lib\\site-packages (from ipywidgets>=8.0.4->open3d) (4.0.13)\n",
      "Requirement already satisfied: jupyterlab-widgets~=3.0.12 in c:\\users\\vikra\\onedrive\\desktop\\cse344-cv\\.venv\\lib\\site-packages (from ipywidgets>=8.0.4->open3d) (3.0.13)\n",
      "Requirement already satisfied: fastjsonschema>=2.15 in c:\\users\\vikra\\onedrive\\desktop\\cse344-cv\\.venv\\lib\\site-packages (from nbformat>=5.7.0->open3d) (2.21.1)\n",
      "Collecting jsonschema>=2.6 (from nbformat>=5.7.0->open3d)\n",
      "  Using cached jsonschema-4.23.0-py3-none-any.whl.metadata (7.9 kB)\n",
      "Requirement already satisfied: jupyter-core!=5.0.*,>=4.12 in c:\\users\\vikra\\onedrive\\desktop\\cse344-cv\\.venv\\lib\\site-packages (from nbformat>=5.7.0->open3d) (5.7.2)\n",
      "Requirement already satisfied: MarkupSafe>=2.1.1 in c:\\users\\vikra\\onedrive\\desktop\\cse344-cv\\.venv\\lib\\site-packages (from werkzeug>=3.0.0->open3d) (3.0.2)\n",
      "Requirement already satisfied: colorama in c:\\users\\vikra\\onedrive\\desktop\\cse344-cv\\.venv\\lib\\site-packages (from click>=8.1.3->flask>=3.0.0->open3d) (0.4.6)\n",
      "Requirement already satisfied: decorator in c:\\users\\vikra\\onedrive\\desktop\\cse344-cv\\.venv\\lib\\site-packages (from ipython>=6.1.0->ipywidgets>=8.0.4->open3d) (5.2.1)\n",
      "Requirement already satisfied: ipython-pygments-lexers in c:\\users\\vikra\\onedrive\\desktop\\cse344-cv\\.venv\\lib\\site-packages (from ipython>=6.1.0->ipywidgets>=8.0.4->open3d) (1.1.1)\n",
      "Requirement already satisfied: jedi>=0.16 in c:\\users\\vikra\\onedrive\\desktop\\cse344-cv\\.venv\\lib\\site-packages (from ipython>=6.1.0->ipywidgets>=8.0.4->open3d) (0.19.2)\n",
      "Requirement already satisfied: matplotlib-inline in c:\\users\\vikra\\onedrive\\desktop\\cse344-cv\\.venv\\lib\\site-packages (from ipython>=6.1.0->ipywidgets>=8.0.4->open3d) (0.1.7)\n",
      "Requirement already satisfied: prompt_toolkit<3.1.0,>=3.0.41 in c:\\users\\vikra\\onedrive\\desktop\\cse344-cv\\.venv\\lib\\site-packages (from ipython>=6.1.0->ipywidgets>=8.0.4->open3d) (3.0.50)\n",
      "Requirement already satisfied: pygments>=2.4.0 in c:\\users\\vikra\\onedrive\\desktop\\cse344-cv\\.venv\\lib\\site-packages (from ipython>=6.1.0->ipywidgets>=8.0.4->open3d) (2.19.1)\n",
      "Requirement already satisfied: stack_data in c:\\users\\vikra\\onedrive\\desktop\\cse344-cv\\.venv\\lib\\site-packages (from ipython>=6.1.0->ipywidgets>=8.0.4->open3d) (0.6.3)\n",
      "Requirement already satisfied: attrs>=22.2.0 in c:\\users\\vikra\\onedrive\\desktop\\cse344-cv\\.venv\\lib\\site-packages (from jsonschema>=2.6->nbformat>=5.7.0->open3d) (25.3.0)\n",
      "Collecting jsonschema-specifications>=2023.03.6 (from jsonschema>=2.6->nbformat>=5.7.0->open3d)\n",
      "  Using cached jsonschema_specifications-2024.10.1-py3-none-any.whl.metadata (3.0 kB)\n",
      "Requirement already satisfied: referencing>=0.28.4 in c:\\users\\vikra\\onedrive\\desktop\\cse344-cv\\.venv\\lib\\site-packages (from jsonschema>=2.6->nbformat>=5.7.0->open3d) (0.36.2)\n",
      "Requirement already satisfied: rpds-py>=0.7.1 in c:\\users\\vikra\\onedrive\\desktop\\cse344-cv\\.venv\\lib\\site-packages (from jsonschema>=2.6->nbformat>=5.7.0->open3d) (0.24.0)\n",
      "Requirement already satisfied: platformdirs>=2.5 in c:\\users\\vikra\\onedrive\\desktop\\cse344-cv\\.venv\\lib\\site-packages (from jupyter-core!=5.0.*,>=4.12->nbformat>=5.7.0->open3d) (4.3.7)\n",
      "Requirement already satisfied: pywin32>=300 in c:\\users\\vikra\\onedrive\\desktop\\cse344-cv\\.venv\\lib\\site-packages (from jupyter-core!=5.0.*,>=4.12->nbformat>=5.7.0->open3d) (310)\n",
      "Requirement already satisfied: narwhals>=1.15.1 in c:\\users\\vikra\\onedrive\\desktop\\cse344-cv\\.venv\\lib\\site-packages (from plotly>=5.0.0->dash>=2.6.0->open3d) (1.33.0)\n",
      "Requirement already satisfied: packaging in c:\\users\\vikra\\onedrive\\desktop\\cse344-cv\\.venv\\lib\\site-packages (from plotly>=5.0.0->dash>=2.6.0->open3d) (24.2)\n",
      "Requirement already satisfied: zipp>=3.20 in c:\\users\\vikra\\onedrive\\desktop\\cse344-cv\\.venv\\lib\\site-packages (from importlib-metadata->dash>=2.6.0->open3d) (3.21.0)\n",
      "Requirement already satisfied: charset-normalizer<4,>=2 in c:\\users\\vikra\\onedrive\\desktop\\cse344-cv\\.venv\\lib\\site-packages (from requests->dash>=2.6.0->open3d) (3.4.1)\n",
      "Requirement already satisfied: idna<4,>=2.5 in c:\\users\\vikra\\onedrive\\desktop\\cse344-cv\\.venv\\lib\\site-packages (from requests->dash>=2.6.0->open3d) (3.10)\n",
      "Requirement already satisfied: urllib3<3,>=1.21.1 in c:\\users\\vikra\\onedrive\\desktop\\cse344-cv\\.venv\\lib\\site-packages (from requests->dash>=2.6.0->open3d) (2.3.0)\n",
      "Requirement already satisfied: certifi>=2017.4.17 in c:\\users\\vikra\\onedrive\\desktop\\cse344-cv\\.venv\\lib\\site-packages (from requests->dash>=2.6.0->open3d) (2025.1.31)\n",
      "Requirement already satisfied: six>=1.7.0 in c:\\users\\vikra\\onedrive\\desktop\\cse344-cv\\.venv\\lib\\site-packages (from retrying->dash>=2.6.0->open3d) (1.17.0)\n",
      "Requirement already satisfied: parso<0.9.0,>=0.8.4 in c:\\users\\vikra\\onedrive\\desktop\\cse344-cv\\.venv\\lib\\site-packages (from jedi>=0.16->ipython>=6.1.0->ipywidgets>=8.0.4->open3d) (0.8.4)\n",
      "Requirement already satisfied: wcwidth in c:\\users\\vikra\\onedrive\\desktop\\cse344-cv\\.venv\\lib\\site-packages (from prompt_toolkit<3.1.0,>=3.0.41->ipython>=6.1.0->ipywidgets>=8.0.4->open3d) (0.2.13)\n",
      "Requirement already satisfied: executing>=1.2.0 in c:\\users\\vikra\\onedrive\\desktop\\cse344-cv\\.venv\\lib\\site-packages (from stack_data->ipython>=6.1.0->ipywidgets>=8.0.4->open3d) (2.2.0)\n",
      "Requirement already satisfied: asttokens>=2.1.0 in c:\\users\\vikra\\onedrive\\desktop\\cse344-cv\\.venv\\lib\\site-packages (from stack_data->ipython>=6.1.0->ipywidgets>=8.0.4->open3d) (3.0.0)\n",
      "Requirement already satisfied: pure-eval in c:\\users\\vikra\\onedrive\\desktop\\cse344-cv\\.venv\\lib\\site-packages (from stack_data->ipython>=6.1.0->ipywidgets>=8.0.4->open3d) (0.2.3)\n",
      "Using cached open3d-0.19.0-cp312-cp312-win_amd64.whl (69.2 MB)\n",
      "Using cached dash-3.0.2-py3-none-any.whl (7.9 MB)\n",
      "Using cached flask-3.0.3-py3-none-any.whl (101 kB)\n",
      "Using cached ipywidgets-8.1.5-py3-none-any.whl (139 kB)\n",
      "Using cached nbformat-5.10.4-py3-none-any.whl (78 kB)\n",
      "Using cached jinja2-3.1.6-py3-none-any.whl (134 kB)\n",
      "Using cached jsonschema-4.23.0-py3-none-any.whl (88 kB)\n",
      "Using cached importlib_metadata-8.6.1-py3-none-any.whl (26 kB)\n",
      "Using cached jsonschema_specifications-2024.10.1-py3-none-any.whl (18 kB)\n",
      "Installing collected packages: Jinja2, importlib-metadata, jsonschema-specifications, flask, jsonschema, ipywidgets, dash, nbformat, open3d\n",
      "Successfully installed Jinja2-3.1.6 dash-3.0.2 flask-3.0.3 importlib-metadata-8.6.1 ipywidgets-8.1.5 jsonschema-4.23.0 jsonschema-specifications-2024.10.1 nbformat-5.10.4 open3d-0.19.0\n",
      "Note: you may need to restart the kernel to use updated packages.\n"
     ]
    }
   ],
   "source": [
    "%pip install open3d scipy numpy"
   ]
  },
  {
   "cell_type": "markdown",
   "metadata": {},
   "source": [
    "# 5.1"
   ]
  },
  {
   "cell_type": "code",
   "execution_count": 2,
   "metadata": {},
   "outputs": [
    {
     "name": "stdout",
     "output_type": "stream",
     "text": [
      "Jupyter environment detected. Enabling Open3D WebVisualizer.\n",
      "[Open3D INFO] WebRTC GUI backend enabled.\n",
      "[Open3D INFO] WebRTCWindowSystem: HTTP handshake server disabled.\n"
     ]
    }
   ],
   "source": [
    "import open3d as o3d\n",
    "import numpy as np\n",
    "from scipy.stats import ortho_group"
   ]
  },
  {
   "cell_type": "code",
   "execution_count": 3,
   "metadata": {},
   "outputs": [
    {
     "name": "stderr",
     "output_type": "stream",
     "text": [
      "<>:2: SyntaxWarning: invalid escape sequence '\\p'\n",
      "<>:3: SyntaxWarning: invalid escape sequence '\\p'\n",
      "<>:2: SyntaxWarning: invalid escape sequence '\\p'\n",
      "<>:3: SyntaxWarning: invalid escape sequence '\\p'\n",
      "C:\\Users\\vikra\\AppData\\Local\\Temp\\ipykernel_24732\\1690278179.py:2: SyntaxWarning: invalid escape sequence '\\p'\n",
      "  pcd1 = o3d.io.read_point_cloud(\"selected_pcds\\pointcloud_0000.pcd\")\n",
      "C:\\Users\\vikra\\AppData\\Local\\Temp\\ipykernel_24732\\1690278179.py:3: SyntaxWarning: invalid escape sequence '\\p'\n",
      "  pcd2 = o3d.io.read_point_cloud(\"selected_pcds\\pointcloud_0004.pcd\")\n"
     ]
    }
   ],
   "source": [
    "# Load 2 consecutive point clouds\n",
    "pcd1 = o3d.io.read_point_cloud(\"selected_pcds\\pointcloud_0000.pcd\")\n",
    "pcd2 = o3d.io.read_point_cloud(\"selected_pcds\\pointcloud_0004.pcd\")"
   ]
  },
  {
   "cell_type": "code",
   "execution_count": 4,
   "metadata": {},
   "outputs": [],
   "source": [
    "# Downsample for faster processing\n",
    "pcd1_down = pcd1.voxel_down_sample(voxel_size=0.05)\n",
    "pcd2_down = pcd2.voxel_down_sample(voxel_size=0.05)\n",
    "\n",
    "# Estimate normals (important for ICP)\n",
    "pcd1_down.estimate_normals()\n",
    "pcd2_down.estimate_normals()"
   ]
  },
  {
   "cell_type": "code",
   "execution_count": 5,
   "metadata": {},
   "outputs": [],
   "source": [
    "# Generate a random orthonormal rotation + small translation\n",
    "R = ortho_group.rvs(dim=3)\n",
    "t = np.array([[0.2], [0.1], [0.0]])  # small random translation\n",
    "init_transform = np.eye(4)\n",
    "init_transform[:3, :3] = R\n",
    "init_transform[:3, 3:] = t"
   ]
  },
  {
   "cell_type": "code",
   "execution_count": 6,
   "metadata": {},
   "outputs": [
    {
     "name": "stdout",
     "output_type": "stream",
     "text": [
      "Initial Alignment\n",
      "Fitness: 0.020615384615384615\n",
      "Inlier RMSE: 0.06462500634448524\n",
      "\n",
      "After ICP\n",
      "Estimated Transformation:\n",
      " [[-0.75299801  0.60898862  0.2492526   0.20567898]\n",
      " [ 0.57393527  0.42255565  0.70145921  0.03591155]\n",
      " [-0.32185758 -0.67125225  0.66770361 -0.08423332]\n",
      " [ 0.          0.          0.          1.        ]]\n",
      "Fitness: 0.03169230769230769\n",
      "Inlier RMSE: 0.0628131935229737\n"
     ]
    }
   ],
   "source": [
    "\n",
    "# Evaluate initial alignment\n",
    "init_eval = o3d.pipelines.registration.evaluate_registration(\n",
    "    pcd1_down, pcd2_down, 0.1, init_transform\n",
    ")\n",
    "print(\"Initial Alignment\")\n",
    "print(\"Fitness:\", init_eval.fitness)\n",
    "print(\"Inlier RMSE:\", init_eval.inlier_rmse)\n",
    "\n",
    "# Run ICP\n",
    "reg_p2p = o3d.pipelines.registration.registration_icp(\n",
    "    pcd1_down, pcd2_down, 0.1, init_transform,\n",
    "    o3d.pipelines.registration.TransformationEstimationPointToPoint()\n",
    ")\n",
    "\n",
    "print(\"\\nAfter ICP\")\n",
    "print(\"Estimated Transformation:\\n\", reg_p2p.transformation)\n",
    "print(\"Fitness:\", reg_p2p.fitness)\n",
    "print(\"Inlier RMSE:\", reg_p2p.inlier_rmse)"
   ]
  },
  {
   "cell_type": "code",
   "execution_count": 7,
   "metadata": {},
   "outputs": [],
   "source": [
    "# Visualize alignment\n",
    "pcd1_down.transform(reg_p2p.transformation)\n",
    "o3d.visualization.draw_geometries([pcd1_down.paint_uniform_color([1, 0, 0]), \n",
    "                                   pcd2_down.paint_uniform_color([0, 1, 0])])"
   ]
  },
  {
   "cell_type": "markdown",
   "metadata": {},
   "source": [
    "# 5.2"
   ]
  },
  {
   "cell_type": "code",
   "execution_count": 8,
   "metadata": {},
   "outputs": [],
   "source": [
    "import open3d as o3d\n",
    "import numpy as np\n",
    "from scipy.stats import ortho_group\n",
    "from copy import deepcopy\n",
    "\n",
    "def run_icp(pcd1, pcd2, init_transform, threshold=0.1, method=\"point_to_point\"):\n",
    "    # Downsample\n",
    "    pcd1_down = deepcopy(pcd1).voxel_down_sample(0.05)\n",
    "    pcd2_down = deepcopy(pcd2).voxel_down_sample(0.05)\n",
    "    \n",
    "    # Estimate normals if needed\n",
    "    pcd1_down.estimate_normals()\n",
    "    pcd2_down.estimate_normals()\n",
    "\n",
    "    # Choose method\n",
    "    if method == \"point_to_plane\":\n",
    "        estimation = o3d.pipelines.registration.TransformationEstimationPointToPlane()\n",
    "    else:\n",
    "        estimation = o3d.pipelines.registration.TransformationEstimationPointToPoint()\n",
    "\n",
    "    # Initial evaluation\n",
    "    init_eval = o3d.pipelines.registration.evaluate_registration(\n",
    "        pcd1_down, pcd2_down, threshold, init_transform)\n",
    "    \n",
    "    # ICP\n",
    "    reg_icp = o3d.pipelines.registration.registration_icp(\n",
    "        pcd1_down, pcd2_down, threshold, init_transform, estimation)\n",
    "    \n",
    "    # Compute error between initial and learned transformation\n",
    "    error = np.linalg.norm(reg_icp.transformation - init_transform)\n",
    "    \n",
    "    return {\n",
    "        \"fitness\": reg_icp.fitness,\n",
    "        \"rmse\": reg_icp.inlier_rmse,\n",
    "        \"error\": error,\n",
    "        \"T\": reg_icp.transformation,\n",
    "    }"
   ]
  },
  {
   "cell_type": "code",
   "execution_count": 9,
   "metadata": {},
   "outputs": [],
   "source": [
    "init_identity = np.eye(4)\n",
    "init_random = np.eye(4)\n",
    "init_random[:3, :3] = ortho_group.rvs(3)\n",
    "init_random[:3, 3] = np.array([0.1, 0.1, 0.1])\n",
    "\n",
    "# For RANSAC-based init:\n",
    "def ransac_initial_guess(source, target):\n",
    "    source_down = source.voxel_down_sample(0.05)\n",
    "    target_down = target.voxel_down_sample(0.05)\n",
    "    source_down.estimate_normals()\n",
    "    target_down.estimate_normals()\n",
    "    result = o3d.pipelines.registration.registration_ransac_based_on_feature_matching(\n",
    "        source_down, target_down,\n",
    "        o3d.pipelines.registration.FPFHFeature(),\n",
    "        o3d.pipelines.registration.FPFHFeature(),\n",
    "        True, 0.075,\n",
    "        o3d.pipelines.registration.TransformationEstimationPointToPoint(),\n",
    "        4,\n",
    "        [o3d.pipelines.registration.CorrespondenceCheckerBasedOnEdgeLength(0.9)],\n",
    "        o3d.pipelines.registration.RANSACConvergenceCriteria(100000, 100)\n",
    "    )\n",
    "    return result.transformation\n",
    "\n",
    "# Run and collect results\n",
    "experiments = [\n",
    "    (\"Identity\", init_identity, \"point_to_point\", 0.1),\n",
    "    (\"Random\", init_random, \"point_to_point\", 0.1),\n",
    "    (\"Random\", init_random, \"point_to_plane\", 0.1),\n",
    "    (\"Identity\", init_identity, \"point_to_plane\", 0.05),\n",
    "]\n",
    "\n",
    "results = []\n",
    "for name, init, method, threshold in experiments:\n",
    "    result = run_icp(pcd1, pcd2, init, threshold, method)\n",
    "    results.append((name, method, threshold, result[\"fitness\"], result[\"rmse\"], result[\"error\"]))"
   ]
  },
  {
   "cell_type": "code",
   "execution_count": 10,
   "metadata": {},
   "outputs": [
    {
     "name": "stdout",
     "output_type": "stream",
     "text": [
      "Init Guess   | Method          | Thresh  | Fitness  | RMSE     | T Error \n",
      "----------------------------------------------------------------------\n",
      "Identity     | point_to_point  | 0.100   | 0.9937   | 0.0206   | 0.0044  \n",
      "Random       | point_to_point  | 0.100   | 0.0602   | 0.0657   | 0.6188  \n",
      "Random       | point_to_plane  | 0.100   | 0.0735   | 0.0656   | 0.8670  \n",
      "Identity     | point_to_plane  | 0.050   | 0.9674   | 0.0179   | 0.0005  \n"
     ]
    }
   ],
   "source": [
    "print(f\"{'Init Guess':<12} | {'Method':<15} | {'Thresh':<7} | {'Fitness':<8} | {'RMSE':<8} | {'T Error':<8}\")\n",
    "print(\"-\" * 70)\n",
    "for name, method, threshold, fitness, rmse, error in results:\n",
    "    print(f\"{name:<12} | {method:<15} | {threshold:<7.3f} | {fitness:<8.4f} | {rmse:<8.4f} | {error:<8.4f}\")"
   ]
  },
  {
   "cell_type": "code",
   "execution_count": 11,
   "metadata": {},
   "outputs": [
    {
     "name": "stdout",
     "output_type": "stream",
     "text": [
      "[[ 9.99999995e-01 -5.12637423e-05 -8.79082824e-05 -4.56397355e-04]\n",
      " [ 5.12554576e-05  9.99999994e-01 -9.42423543e-05  2.32611106e-05]\n",
      " [ 8.79131131e-05  9.42378481e-05  9.99999992e-01 -6.31491481e-05]\n",
      " [ 0.00000000e+00  0.00000000e+00  0.00000000e+00  1.00000000e+00]]\n"
     ]
    }
   ],
   "source": [
    "print(result[\"T\"])\n"
   ]
  },
  {
   "cell_type": "code",
   "execution_count": null,
   "metadata": {},
   "outputs": [],
   "source": []
  }
 ],
 "metadata": {
  "kernelspec": {
   "display_name": ".venv",
   "language": "python",
   "name": "python3"
  },
  "language_info": {
   "codemirror_mode": {
    "name": "ipython",
    "version": 3
   },
   "file_extension": ".py",
   "mimetype": "text/x-python",
   "name": "python",
   "nbconvert_exporter": "python",
   "pygments_lexer": "ipython3",
   "version": "3.12.0"
  }
 },
 "nbformat": 4,
 "nbformat_minor": 2
}
