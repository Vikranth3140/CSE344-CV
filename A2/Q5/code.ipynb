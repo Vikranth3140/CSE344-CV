{
 "cells": [
  {
   "cell_type": "code",
   "execution_count": 1,
   "metadata": {},
   "outputs": [
    {
     "name": "stdout",
     "output_type": "stream",
     "text": [
      "Requirement already satisfied: open3d in c:\\users\\vikra\\onedrive\\desktop\\cse344-cv\\.venv\\lib\\site-packages (0.19.0)\n",
      "Requirement already satisfied: scipy in c:\\users\\vikra\\onedrive\\desktop\\cse344-cv\\.venv\\lib\\site-packages (1.15.2)\n",
      "Requirement already satisfied: numpy in c:\\users\\vikra\\onedrive\\desktop\\cse344-cv\\.venv\\lib\\site-packages (2.2.4)\n",
      "Requirement already satisfied: dash>=2.6.0 in c:\\users\\vikra\\onedrive\\desktop\\cse344-cv\\.venv\\lib\\site-packages (from open3d) (3.0.2)\n",
      "Requirement already satisfied: werkzeug>=3.0.0 in c:\\users\\vikra\\onedrive\\desktop\\cse344-cv\\.venv\\lib\\site-packages (from open3d) (3.0.6)\n",
      "Requirement already satisfied: flask>=3.0.0 in c:\\users\\vikra\\onedrive\\desktop\\cse344-cv\\.venv\\lib\\site-packages (from open3d) (3.0.3)\n",
      "Requirement already satisfied: nbformat>=5.7.0 in c:\\users\\vikra\\onedrive\\desktop\\cse344-cv\\.venv\\lib\\site-packages (from open3d) (5.10.4)\n",
      "Requirement already satisfied: configargparse in c:\\users\\vikra\\onedrive\\desktop\\cse344-cv\\.venv\\lib\\site-packages (from open3d) (1.7)\n",
      "Requirement already satisfied: ipywidgets>=8.0.4 in c:\\users\\vikra\\onedrive\\desktop\\cse344-cv\\.venv\\lib\\site-packages (from open3d) (8.1.5)\n",
      "Requirement already satisfied: plotly>=5.0.0 in c:\\users\\vikra\\onedrive\\desktop\\cse344-cv\\.venv\\lib\\site-packages (from dash>=2.6.0->open3d) (6.0.1)\n",
      "Requirement already satisfied: importlib-metadata in c:\\users\\vikra\\onedrive\\desktop\\cse344-cv\\.venv\\lib\\site-packages (from dash>=2.6.0->open3d) (8.6.1)\n",
      "Requirement already satisfied: typing-extensions>=4.1.1 in c:\\users\\vikra\\onedrive\\desktop\\cse344-cv\\.venv\\lib\\site-packages (from dash>=2.6.0->open3d) (4.13.0)\n",
      "Requirement already satisfied: requests in c:\\users\\vikra\\onedrive\\desktop\\cse344-cv\\.venv\\lib\\site-packages (from dash>=2.6.0->open3d) (2.32.3)\n",
      "Requirement already satisfied: retrying in c:\\users\\vikra\\onedrive\\desktop\\cse344-cv\\.venv\\lib\\site-packages (from dash>=2.6.0->open3d) (1.3.4)\n",
      "Requirement already satisfied: nest-asyncio in c:\\users\\vikra\\onedrive\\desktop\\cse344-cv\\.venv\\lib\\site-packages (from dash>=2.6.0->open3d) (1.6.0)\n",
      "Requirement already satisfied: setuptools in c:\\users\\vikra\\onedrive\\desktop\\cse344-cv\\.venv\\lib\\site-packages (from dash>=2.6.0->open3d) (78.1.0)\n",
      "Requirement already satisfied: Jinja2>=3.1.2 in c:\\users\\vikra\\onedrive\\desktop\\cse344-cv\\.venv\\lib\\site-packages (from flask>=3.0.0->open3d) (3.1.6)\n",
      "Requirement already satisfied: itsdangerous>=2.1.2 in c:\\users\\vikra\\onedrive\\desktop\\cse344-cv\\.venv\\lib\\site-packages (from flask>=3.0.0->open3d) (2.2.0)\n",
      "Requirement already satisfied: click>=8.1.3 in c:\\users\\vikra\\onedrive\\desktop\\cse344-cv\\.venv\\lib\\site-packages (from flask>=3.0.0->open3d) (8.1.8)\n",
      "Requirement already satisfied: blinker>=1.6.2 in c:\\users\\vikra\\onedrive\\desktop\\cse344-cv\\.venv\\lib\\site-packages (from flask>=3.0.0->open3d) (1.9.0)\n",
      "Requirement already satisfied: comm>=0.1.3 in c:\\users\\vikra\\onedrive\\desktop\\cse344-cv\\.venv\\lib\\site-packages (from ipywidgets>=8.0.4->open3d) (0.2.2)\n",
      "Requirement already satisfied: ipython>=6.1.0 in c:\\users\\vikra\\onedrive\\desktop\\cse344-cv\\.venv\\lib\\site-packages (from ipywidgets>=8.0.4->open3d) (9.0.2)\n",
      "Requirement already satisfied: traitlets>=4.3.1 in c:\\users\\vikra\\onedrive\\desktop\\cse344-cv\\.venv\\lib\\site-packages (from ipywidgets>=8.0.4->open3d) (5.14.3)\n",
      "Requirement already satisfied: widgetsnbextension~=4.0.12 in c:\\users\\vikra\\onedrive\\desktop\\cse344-cv\\.venv\\lib\\site-packages (from ipywidgets>=8.0.4->open3d) (4.0.13)\n",
      "Requirement already satisfied: jupyterlab-widgets~=3.0.12 in c:\\users\\vikra\\onedrive\\desktop\\cse344-cv\\.venv\\lib\\site-packages (from ipywidgets>=8.0.4->open3d) (3.0.13)\n",
      "Requirement already satisfied: fastjsonschema>=2.15 in c:\\users\\vikra\\onedrive\\desktop\\cse344-cv\\.venv\\lib\\site-packages (from nbformat>=5.7.0->open3d) (2.21.1)\n",
      "Requirement already satisfied: jsonschema>=2.6 in c:\\users\\vikra\\onedrive\\desktop\\cse344-cv\\.venv\\lib\\site-packages (from nbformat>=5.7.0->open3d) (4.23.0)\n",
      "Requirement already satisfied: jupyter-core!=5.0.*,>=4.12 in c:\\users\\vikra\\onedrive\\desktop\\cse344-cv\\.venv\\lib\\site-packages (from nbformat>=5.7.0->open3d) (5.7.2)\n",
      "Requirement already satisfied: MarkupSafe>=2.1.1 in c:\\users\\vikra\\onedrive\\desktop\\cse344-cv\\.venv\\lib\\site-packages (from werkzeug>=3.0.0->open3d) (3.0.2)\n",
      "Requirement already satisfied: colorama in c:\\users\\vikra\\onedrive\\desktop\\cse344-cv\\.venv\\lib\\site-packages (from click>=8.1.3->flask>=3.0.0->open3d) (0.4.6)\n",
      "Requirement already satisfied: decorator in c:\\users\\vikra\\onedrive\\desktop\\cse344-cv\\.venv\\lib\\site-packages (from ipython>=6.1.0->ipywidgets>=8.0.4->open3d) (5.2.1)\n",
      "Requirement already satisfied: ipython-pygments-lexers in c:\\users\\vikra\\onedrive\\desktop\\cse344-cv\\.venv\\lib\\site-packages (from ipython>=6.1.0->ipywidgets>=8.0.4->open3d) (1.1.1)\n",
      "Requirement already satisfied: jedi>=0.16 in c:\\users\\vikra\\onedrive\\desktop\\cse344-cv\\.venv\\lib\\site-packages (from ipython>=6.1.0->ipywidgets>=8.0.4->open3d) (0.19.2)\n",
      "Requirement already satisfied: matplotlib-inline in c:\\users\\vikra\\onedrive\\desktop\\cse344-cv\\.venv\\lib\\site-packages (from ipython>=6.1.0->ipywidgets>=8.0.4->open3d) (0.1.7)\n",
      "Requirement already satisfied: prompt_toolkit<3.1.0,>=3.0.41 in c:\\users\\vikra\\onedrive\\desktop\\cse344-cv\\.venv\\lib\\site-packages (from ipython>=6.1.0->ipywidgets>=8.0.4->open3d) (3.0.50)\n",
      "Requirement already satisfied: pygments>=2.4.0 in c:\\users\\vikra\\onedrive\\desktop\\cse344-cv\\.venv\\lib\\site-packages (from ipython>=6.1.0->ipywidgets>=8.0.4->open3d) (2.19.1)\n",
      "Requirement already satisfied: stack_data in c:\\users\\vikra\\onedrive\\desktop\\cse344-cv\\.venv\\lib\\site-packages (from ipython>=6.1.0->ipywidgets>=8.0.4->open3d) (0.6.3)\n",
      "Requirement already satisfied: attrs>=22.2.0 in c:\\users\\vikra\\onedrive\\desktop\\cse344-cv\\.venv\\lib\\site-packages (from jsonschema>=2.6->nbformat>=5.7.0->open3d) (25.3.0)\n",
      "Requirement already satisfied: jsonschema-specifications>=2023.03.6 in c:\\users\\vikra\\onedrive\\desktop\\cse344-cv\\.venv\\lib\\site-packages (from jsonschema>=2.6->nbformat>=5.7.0->open3d) (2024.10.1)\n",
      "Requirement already satisfied: referencing>=0.28.4 in c:\\users\\vikra\\onedrive\\desktop\\cse344-cv\\.venv\\lib\\site-packages (from jsonschema>=2.6->nbformat>=5.7.0->open3d) (0.36.2)\n",
      "Requirement already satisfied: rpds-py>=0.7.1 in c:\\users\\vikra\\onedrive\\desktop\\cse344-cv\\.venv\\lib\\site-packages (from jsonschema>=2.6->nbformat>=5.7.0->open3d) (0.24.0)\n",
      "Requirement already satisfied: platformdirs>=2.5 in c:\\users\\vikra\\onedrive\\desktop\\cse344-cv\\.venv\\lib\\site-packages (from jupyter-core!=5.0.*,>=4.12->nbformat>=5.7.0->open3d) (4.3.7)\n",
      "Requirement already satisfied: pywin32>=300 in c:\\users\\vikra\\onedrive\\desktop\\cse344-cv\\.venv\\lib\\site-packages (from jupyter-core!=5.0.*,>=4.12->nbformat>=5.7.0->open3d) (310)\n",
      "Requirement already satisfied: narwhals>=1.15.1 in c:\\users\\vikra\\onedrive\\desktop\\cse344-cv\\.venv\\lib\\site-packages (from plotly>=5.0.0->dash>=2.6.0->open3d) (1.33.0)\n",
      "Requirement already satisfied: packaging in c:\\users\\vikra\\onedrive\\desktop\\cse344-cv\\.venv\\lib\\site-packages (from plotly>=5.0.0->dash>=2.6.0->open3d) (24.2)\n",
      "Requirement already satisfied: zipp>=3.20 in c:\\users\\vikra\\onedrive\\desktop\\cse344-cv\\.venv\\lib\\site-packages (from importlib-metadata->dash>=2.6.0->open3d) (3.21.0)\n",
      "Requirement already satisfied: charset-normalizer<4,>=2 in c:\\users\\vikra\\onedrive\\desktop\\cse344-cv\\.venv\\lib\\site-packages (from requests->dash>=2.6.0->open3d) (3.4.1)\n",
      "Requirement already satisfied: idna<4,>=2.5 in c:\\users\\vikra\\onedrive\\desktop\\cse344-cv\\.venv\\lib\\site-packages (from requests->dash>=2.6.0->open3d) (3.10)\n",
      "Requirement already satisfied: urllib3<3,>=1.21.1 in c:\\users\\vikra\\onedrive\\desktop\\cse344-cv\\.venv\\lib\\site-packages (from requests->dash>=2.6.0->open3d) (2.3.0)\n",
      "Requirement already satisfied: certifi>=2017.4.17 in c:\\users\\vikra\\onedrive\\desktop\\cse344-cv\\.venv\\lib\\site-packages (from requests->dash>=2.6.0->open3d) (2025.1.31)\n",
      "Requirement already satisfied: six>=1.7.0 in c:\\users\\vikra\\onedrive\\desktop\\cse344-cv\\.venv\\lib\\site-packages (from retrying->dash>=2.6.0->open3d) (1.17.0)\n",
      "Requirement already satisfied: parso<0.9.0,>=0.8.4 in c:\\users\\vikra\\onedrive\\desktop\\cse344-cv\\.venv\\lib\\site-packages (from jedi>=0.16->ipython>=6.1.0->ipywidgets>=8.0.4->open3d) (0.8.4)\n",
      "Requirement already satisfied: wcwidth in c:\\users\\vikra\\onedrive\\desktop\\cse344-cv\\.venv\\lib\\site-packages (from prompt_toolkit<3.1.0,>=3.0.41->ipython>=6.1.0->ipywidgets>=8.0.4->open3d) (0.2.13)\n",
      "Requirement already satisfied: executing>=1.2.0 in c:\\users\\vikra\\onedrive\\desktop\\cse344-cv\\.venv\\lib\\site-packages (from stack_data->ipython>=6.1.0->ipywidgets>=8.0.4->open3d) (2.2.0)\n",
      "Requirement already satisfied: asttokens>=2.1.0 in c:\\users\\vikra\\onedrive\\desktop\\cse344-cv\\.venv\\lib\\site-packages (from stack_data->ipython>=6.1.0->ipywidgets>=8.0.4->open3d) (3.0.0)\n",
      "Requirement already satisfied: pure-eval in c:\\users\\vikra\\onedrive\\desktop\\cse344-cv\\.venv\\lib\\site-packages (from stack_data->ipython>=6.1.0->ipywidgets>=8.0.4->open3d) (0.2.3)\n",
      "Note: you may need to restart the kernel to use updated packages.\n"
     ]
    }
   ],
   "source": [
    "%pip install open3d scipy numpy"
   ]
  },
  {
   "cell_type": "markdown",
   "metadata": {},
   "source": [
    "# 5.1"
   ]
  },
  {
   "cell_type": "code",
   "execution_count": 2,
   "metadata": {},
   "outputs": [
    {
     "name": "stdout",
     "output_type": "stream",
     "text": [
      "Jupyter environment detected. Enabling Open3D WebVisualizer.\n",
      "[Open3D INFO] WebRTC GUI backend enabled.\n",
      "[Open3D INFO] WebRTCWindowSystem: HTTP handshake server disabled.\n"
     ]
    }
   ],
   "source": [
    "import open3d as o3d\n",
    "import numpy as np\n",
    "from scipy.stats import ortho_group"
   ]
  },
  {
   "cell_type": "code",
   "execution_count": 3,
   "metadata": {},
   "outputs": [],
   "source": [
    "# Load 2 consecutive point clouds\n",
    "pcd1 = o3d.io.read_point_cloud(r\"selected_pcds\\pointcloud_0000.pcd\")\n",
    "pcd2 = o3d.io.read_point_cloud(r\"selected_pcds\\pointcloud_0004.pcd\")"
   ]
  },
  {
   "cell_type": "code",
   "execution_count": 4,
   "metadata": {},
   "outputs": [],
   "source": [
    "# Downsample for faster processing\n",
    "pcd1_down = pcd1.voxel_down_sample(voxel_size=0.05)\n",
    "pcd2_down = pcd2.voxel_down_sample(voxel_size=0.05)\n",
    "\n",
    "# Estimate normals (important for ICP)\n",
    "pcd1_down.estimate_normals()\n",
    "pcd2_down.estimate_normals()"
   ]
  },
  {
   "cell_type": "code",
   "execution_count": 5,
   "metadata": {},
   "outputs": [],
   "source": [
    "# Generate a random orthonormal rotation + small translation\n",
    "R = ortho_group.rvs(dim=3)\n",
    "t = np.array([[0.2], [0.1], [0.0]])  # small random translation\n",
    "init_transform = np.eye(4)\n",
    "init_transform[:3, :3] = R\n",
    "init_transform[:3, 3:] = t"
   ]
  },
  {
   "cell_type": "code",
   "execution_count": 6,
   "metadata": {},
   "outputs": [
    {
     "name": "stdout",
     "output_type": "stream",
     "text": [
      "Initial Alignment\n",
      "Fitness: 0.03107692307692308\n",
      "Inlier RMSE: 0.06900914756871289\n",
      "\n",
      "After ICP\n",
      "Estimated Transformation:\n",
      " [[ 0.66587624  0.60855351  0.43159176  0.17543967]\n",
      " [-0.28463572  0.74195671 -0.6070278  -0.00261867]\n",
      " [ 0.68963131 -0.28135896 -0.66726741 -0.00356774]\n",
      " [ 0.          0.          0.          1.        ]]\n",
      "Fitness: 0.036\n",
      "Inlier RMSE: 0.06511093954102003\n"
     ]
    }
   ],
   "source": [
    "# Evaluate initial alignment\n",
    "init_eval = o3d.pipelines.registration.evaluate_registration(\n",
    "    pcd1_down, pcd2_down, 0.1, init_transform\n",
    ")\n",
    "print(\"Initial Alignment\")\n",
    "print(\"Fitness:\", init_eval.fitness)\n",
    "print(\"Inlier RMSE:\", init_eval.inlier_rmse)\n",
    "\n",
    "# Run ICP\n",
    "reg_p2p = o3d.pipelines.registration.registration_icp(\n",
    "    pcd1_down, pcd2_down, 0.1, init_transform,\n",
    "    o3d.pipelines.registration.TransformationEstimationPointToPoint()\n",
    ")\n",
    "\n",
    "print(\"\\nAfter ICP\")\n",
    "print(\"Estimated Transformation:\\n\", reg_p2p.transformation)\n",
    "print(\"Fitness:\", reg_p2p.fitness)\n",
    "print(\"Inlier RMSE:\", reg_p2p.inlier_rmse)"
   ]
  },
  {
   "cell_type": "code",
   "execution_count": 7,
   "metadata": {},
   "outputs": [],
   "source": [
    "# Visualize alignment\n",
    "pcd1_down.transform(reg_p2p.transformation)\n",
    "o3d.visualization.draw_geometries([pcd1_down.paint_uniform_color([1, 0, 0]), \n",
    "                                   pcd2_down.paint_uniform_color([0, 1, 0])])"
   ]
  },
  {
   "cell_type": "markdown",
   "metadata": {},
   "source": [
    "# 5.2"
   ]
  },
  {
   "cell_type": "code",
   "execution_count": 8,
   "metadata": {},
   "outputs": [],
   "source": [
    "import open3d as o3d\n",
    "import numpy as np\n",
    "from scipy.stats import ortho_group\n",
    "from copy import deepcopy\n",
    "\n",
    "# --- Load Point Clouds ---\n",
    "pcd1 = o3d.io.read_point_cloud(r\"selected_pcds\\pointcloud_0000.pcd\")\n",
    "pcd2 = o3d.io.read_point_cloud(r\"selected_pcds\\pointcloud_0004.pcd\")\n",
    "\n",
    "# --- Function to Run ICP ---\n",
    "def run_icp(pcd1, pcd2, init_transform, threshold=0.1, method=\"point_to_point\"):\n",
    "    pcd1_down = deepcopy(pcd1).voxel_down_sample(0.05)\n",
    "    pcd2_down = deepcopy(pcd2).voxel_down_sample(0.05)\n",
    "\n",
    "    pcd1_down.estimate_normals()\n",
    "    pcd2_down.estimate_normals()\n",
    "\n",
    "    if method == \"point_to_plane\":\n",
    "        estimation = o3d.pipelines.registration.TransformationEstimationPointToPlane()\n",
    "    else:\n",
    "        estimation = o3d.pipelines.registration.TransformationEstimationPointToPoint()\n",
    "\n",
    "    init_eval = o3d.pipelines.registration.evaluate_registration(\n",
    "        pcd1_down, pcd2_down, threshold, init_transform)\n",
    "\n",
    "    reg_icp = o3d.pipelines.registration.registration_icp(\n",
    "        pcd1_down, pcd2_down, threshold, init_transform, estimation)\n",
    "\n",
    "    error = np.linalg.norm(reg_icp.transformation - init_transform)\n",
    "\n",
    "    return {\n",
    "        \"fitness\": reg_icp.fitness,\n",
    "        \"rmse\": reg_icp.inlier_rmse,\n",
    "        \"error\": error,\n",
    "        \"T\": reg_icp.transformation\n",
    "    }\n",
    "\n",
    "# --- Function to Get RANSAC Initial Guess ---\n",
    "def get_ransac_initial_guess(pcd1, pcd2):\n",
    "    voxel_size = 0.05\n",
    "    pcd1_down = pcd1.voxel_down_sample(voxel_size)\n",
    "    pcd2_down = pcd2.voxel_down_sample(voxel_size)\n",
    "\n",
    "    pcd1_down.estimate_normals()\n",
    "    pcd2_down.estimate_normals()\n",
    "\n",
    "    pcd1_fpfh = o3d.pipelines.registration.compute_fpfh_feature(\n",
    "        pcd1_down, o3d.geometry.KDTreeSearchParamHybrid(radius=5 * voxel_size, max_nn=100))\n",
    "    pcd2_fpfh = o3d.pipelines.registration.compute_fpfh_feature(\n",
    "        pcd2_down, o3d.geometry.KDTreeSearchParamHybrid(radius=5 * voxel_size, max_nn=100))\n",
    "\n",
    "    result = o3d.pipelines.registration.registration_ransac_based_on_feature_matching(\n",
    "        pcd1_down, pcd2_down, pcd1_fpfh, pcd2_fpfh, True, 1.5 * voxel_size,\n",
    "        o3d.pipelines.registration.TransformationEstimationPointToPoint(False), 4,\n",
    "        [o3d.pipelines.registration.CorrespondenceCheckerBasedOnEdgeLength(0.9),\n",
    "         o3d.pipelines.registration.CorrespondenceCheckerBasedOnDistance(1.5 * voxel_size)],\n",
    "        o3d.pipelines.registration.RANSACConvergenceCriteria(4000000, 500)\n",
    "    )\n",
    "    return result.transformation"
   ]
  },
  {
   "cell_type": "code",
   "execution_count": 9,
   "metadata": {},
   "outputs": [],
   "source": [
    "# --- Initial Transforms ---\n",
    "init_identity = np.eye(4)\n",
    "init_random = np.eye(4)\n",
    "init_random[:3, :3] = ortho_group.rvs(3)\n",
    "init_random[:3, 3] = np.random.uniform(-0.1, 0.1, size=(3,))\n",
    "\n",
    "# --- Run Experiments ---\n",
    "results = []\n",
    "\n",
    "# Identity Init, Point-to-Point\n",
    "res1 = run_icp(pcd1, pcd2, init_identity, threshold=0.1, method=\"point_to_point\")\n",
    "results.append((\"Identity\", \"point_to_point\", 0.1, res1[\"fitness\"], res1[\"rmse\"], res1[\"error\"]))\n",
    "\n",
    "# Random Init, Point-to-Point\n",
    "res2 = run_icp(pcd1, pcd2, init_random, threshold=0.1, method=\"point_to_point\")\n",
    "results.append((\"Random\", \"point_to_point\", 0.1, res2[\"fitness\"], res2[\"rmse\"], res2[\"error\"]))\n",
    "\n",
    "# Random Init, Point-to-Plane\n",
    "res3 = run_icp(pcd1, pcd2, init_random, threshold=0.1, method=\"point_to_plane\")\n",
    "results.append((\"Random\", \"point_to_plane\", 0.1, res3[\"fitness\"], res3[\"rmse\"], res3[\"error\"]))\n",
    "\n",
    "# Identity Init, Point-to-Plane, lower threshold\n",
    "res4 = run_icp(pcd1, pcd2, init_identity, threshold=0.05, method=\"point_to_plane\")\n",
    "results.append((\"Identity\", \"point_to_plane\", 0.05, res4[\"fitness\"], res4[\"rmse\"], res4[\"error\"]))\n",
    "\n",
    "# RANSAC Init, Point-to-Point\n",
    "ransac_T = get_ransac_initial_guess(pcd1, pcd2)\n",
    "res5 = run_icp(pcd1, pcd2, ransac_T, threshold=0.1, method=\"point_to_point\")\n",
    "results.append((\"RANSAC\", \"point_to_point\", 0.1, res5[\"fitness\"], res5[\"rmse\"], res5[\"error\"]))"
   ]
  },
  {
   "cell_type": "code",
   "execution_count": 10,
   "metadata": {},
   "outputs": [
    {
     "name": "stdout",
     "output_type": "stream",
     "text": [
      "Init Guess   | Method          | Thresh  | Fitness  | RMSE     | T Error \n",
      "----------------------------------------------------------------------\n",
      "Identity     | point_to_point  | 0.100   | 0.9937   | 0.0206   | 0.0044  \n",
      "Random       | point_to_point  | 0.100   | 0.0474   | 0.0653   | 0.1564  \n",
      "Random       | point_to_plane  | 0.100   | 0.0462   | 0.0651   | 0.2719  \n",
      "Identity     | point_to_plane  | 0.050   | 0.9674   | 0.0179   | 0.0005  \n",
      "RANSAC       | point_to_point  | 0.100   | 0.9937   | 0.0206   | 0.0118  \n"
     ]
    }
   ],
   "source": [
    "# --- Print Table ---\n",
    "print(f\"{'Init Guess':<12} | {'Method':<15} | {'Thresh':<7} | {'Fitness':<8} | {'RMSE':<8} | {'T Error':<8}\")\n",
    "print(\"-\" * 70)\n",
    "for name, method, threshold, fitness, rmse, error in results:\n",
    "    print(f\"{name:<12} | {method:<15} | {threshold:<7.3f} | {fitness:<8.4f} | {rmse:<8.4f} | {error:<8.4f}\")"
   ]
  },
  {
   "cell_type": "code",
   "execution_count": 11,
   "metadata": {},
   "outputs": [
    {
     "name": "stdout",
     "output_type": "stream",
     "text": [
      "\n",
      "Best Transformation Matrix (from Identity Init + Point-to-Plane):\n",
      " [[ 9.99999995e-01 -5.12637423e-05 -8.79082824e-05 -4.56397355e-04]\n",
      " [ 5.12554576e-05  9.99999994e-01 -9.42423543e-05  2.32611106e-05]\n",
      " [ 8.79131131e-05  9.42378481e-05  9.99999992e-01 -6.31491481e-05]\n",
      " [ 0.00000000e+00  0.00000000e+00  0.00000000e+00  1.00000000e+00]]\n"
     ]
    }
   ],
   "source": [
    "# --- Print Best T-matrix ---\n",
    "print(\"\\nBest Transformation Matrix (from Identity Init + Point-to-Plane):\\n\", res4[\"T\"])"
   ]
  },
  {
   "cell_type": "markdown",
   "metadata": {},
   "source": [
    "# 5.3"
   ]
  },
  {
   "cell_type": "code",
   "execution_count": 12,
   "metadata": {},
   "outputs": [
    {
     "name": "stdout",
     "output_type": "stream",
     "text": [
      "Best Transformation Matrix:\n",
      " [[ 9.99999995e-01 -5.12637423e-05 -8.79082824e-05 -4.56397355e-04]\n",
      " [ 5.12554576e-05  9.99999994e-01 -9.42423543e-05  2.32611106e-05]\n",
      " [ 8.79131131e-05  9.42378481e-05  9.99999992e-01 -6.31491481e-05]\n",
      " [ 0.00000000e+00  0.00000000e+00  0.00000000e+00  1.00000000e+00]]\n"
     ]
    }
   ],
   "source": [
    "import open3d as o3d\n",
    "import numpy as np\n",
    "from copy import deepcopy\n",
    "\n",
    "# Load source and target point clouds\n",
    "pcd1 = o3d.io.read_point_cloud(r\"selected_pcds\\pointcloud_0000.pcd\")\n",
    "pcd2 = o3d.io.read_point_cloud(r\"selected_pcds\\pointcloud_0004.pcd\")\n",
    "\n",
    "# Downsample and estimate normals (needed for Point-to-Plane)\n",
    "pcd1_down = deepcopy(pcd1).voxel_down_sample(0.05)\n",
    "pcd2_down = deepcopy(pcd2).voxel_down_sample(0.05)\n",
    "pcd1_down.estimate_normals()\n",
    "pcd2_down.estimate_normals()\n",
    "\n",
    "# Identity initialization\n",
    "init_transform = np.eye(4)\n",
    "\n",
    "# Run Point-to-Plane ICP with best settings\n",
    "reg_icp = o3d.pipelines.registration.registration_icp(\n",
    "    pcd1_down, pcd2_down, 0.05, init_transform,\n",
    "    o3d.pipelines.registration.TransformationEstimationPointToPlane()\n",
    ")\n",
    "\n",
    "# Get best estimated transformation\n",
    "best_T = reg_icp.transformation\n",
    "print(\"Best Transformation Matrix:\\n\", best_T)\n",
    "\n",
    "# Apply transformation to the original (non-downsampled) point cloud\n",
    "pcd1_transformed = deepcopy(pcd1).transform(best_T)\n",
    "\n",
    "# Visualize transformed source vs target\n",
    "o3d.visualization.draw_geometries([\n",
    "    pcd1_transformed.paint_uniform_color([1, 0, 0]),  # Transformed source - Red\n",
    "    pcd2.paint_uniform_color([0, 1, 0])               # Target - Green\n",
    "])"
   ]
  },
  {
   "cell_type": "code",
   "execution_count": 13,
   "metadata": {},
   "outputs": [
    {
     "name": "stdout",
     "output_type": "stream",
     "text": [
      "Fitness: 0.9673846153846154\n",
      "Inlier RMSE: 0.01788210256098123\n"
     ]
    }
   ],
   "source": [
    "print(\"Fitness:\", reg_icp.fitness)\n",
    "print(\"Inlier RMSE:\", reg_icp.inlier_rmse)"
   ]
  },
  {
   "cell_type": "markdown",
   "metadata": {},
   "source": [
    "# 5.4"
   ]
  },
  {
   "cell_type": "code",
   "execution_count": 14,
   "metadata": {},
   "outputs": [
    {
     "name": "stdout",
     "output_type": "stream",
     "text": [
      "Registered pointcloud_0000.pcd -> pointcloud_0004.pcd | Fitness: 0.9937\n",
      "Registered pointcloud_0004.pcd -> pointcloud_0008.pcd | Fitness: 0.9915\n",
      "Registered pointcloud_0008.pcd -> pointcloud_0012.pcd | Fitness: 0.9912\n",
      "Registered pointcloud_0012.pcd -> pointcloud_0016.pcd | Fitness: 0.9909\n",
      "Registered pointcloud_0016.pcd -> pointcloud_0020.pcd | Fitness: 0.9917\n",
      "Registered pointcloud_0020.pcd -> pointcloud_0024.pcd | Fitness: 0.9887\n",
      "Registered pointcloud_0024.pcd -> pointcloud_0028.pcd | Fitness: 0.9881\n",
      "Registered pointcloud_0028.pcd -> pointcloud_0032.pcd | Fitness: 0.9918\n",
      "Registered pointcloud_0032.pcd -> pointcloud_0036.pcd | Fitness: 0.9844\n",
      "Registered pointcloud_0036.pcd -> pointcloud_0040.pcd | Fitness: 0.9600\n",
      "Registered pointcloud_0040.pcd -> pointcloud_0044.pcd | Fitness: 0.9683\n",
      "Registered pointcloud_0044.pcd -> pointcloud_0048.pcd | Fitness: 0.9671\n",
      "Registered pointcloud_0048.pcd -> pointcloud_0052.pcd | Fitness: 0.9781\n",
      "Registered pointcloud_0052.pcd -> pointcloud_0056.pcd | Fitness: 0.9785\n",
      "Registered pointcloud_0056.pcd -> pointcloud_0060.pcd | Fitness: 0.9677\n",
      "Registered pointcloud_0060.pcd -> pointcloud_0064.pcd | Fitness: 0.9749\n",
      "Registered pointcloud_0064.pcd -> pointcloud_0068.pcd | Fitness: 0.9692\n",
      "Registered pointcloud_0068.pcd -> pointcloud_0072.pcd | Fitness: 0.9831\n",
      "Registered pointcloud_0072.pcd -> pointcloud_0076.pcd | Fitness: 0.9689\n",
      "Registered pointcloud_0076.pcd -> pointcloud_0080.pcd | Fitness: 0.9807\n",
      "Registered pointcloud_0080.pcd -> pointcloud_0084.pcd | Fitness: 0.9754\n",
      "Registered pointcloud_0084.pcd -> pointcloud_0088.pcd | Fitness: 0.9842\n",
      "Registered pointcloud_0088.pcd -> pointcloud_0092.pcd | Fitness: 0.9758\n",
      "Registered pointcloud_0092.pcd -> pointcloud_0096.pcd | Fitness: 0.9881\n",
      "Registered pointcloud_0096.pcd -> pointcloud_0100.pcd | Fitness: 0.9781\n",
      "Registered pointcloud_0100.pcd -> pointcloud_0104.pcd | Fitness: 0.9863\n",
      "Registered pointcloud_0104.pcd -> pointcloud_0108.pcd | Fitness: 0.9804\n",
      "Registered pointcloud_0108.pcd -> pointcloud_0112.pcd | Fitness: 0.9875\n",
      "Registered pointcloud_0112.pcd -> pointcloud_0116.pcd | Fitness: 0.9696\n",
      "Registered pointcloud_0116.pcd -> pointcloud_0120.pcd | Fitness: 0.9849\n",
      "Registered pointcloud_0120.pcd -> pointcloud_0124.pcd | Fitness: 0.9773\n",
      "Registered pointcloud_0124.pcd -> pointcloud_0128.pcd | Fitness: 0.9878\n",
      "Registered pointcloud_0128.pcd -> pointcloud_0132.pcd | Fitness: 0.9782\n",
      "Registered pointcloud_0132.pcd -> pointcloud_0136.pcd | Fitness: 0.9874\n",
      "Registered pointcloud_0136.pcd -> pointcloud_0140.pcd | Fitness: 0.9803\n",
      "Registered pointcloud_0140.pcd -> pointcloud_0144.pcd | Fitness: 0.9873\n",
      "Registered pointcloud_0144.pcd -> pointcloud_0148.pcd | Fitness: 0.9834\n",
      "Registered pointcloud_0148.pcd -> pointcloud_0152.pcd | Fitness: 0.9847\n",
      "Registered pointcloud_0152.pcd -> pointcloud_0156.pcd | Fitness: 0.9835\n",
      "Registered pointcloud_0156.pcd -> pointcloud_0160.pcd | Fitness: 0.9888\n",
      "Registered pointcloud_0160.pcd -> pointcloud_0164.pcd | Fitness: 0.9864\n",
      "Registered pointcloud_0164.pcd -> pointcloud_0168.pcd | Fitness: 0.9909\n",
      "Registered pointcloud_0168.pcd -> pointcloud_0172.pcd | Fitness: 0.9870\n",
      "Registered pointcloud_0172.pcd -> pointcloud_0176.pcd | Fitness: 0.9846\n",
      "Registered pointcloud_0176.pcd -> pointcloud_0180.pcd | Fitness: 0.9826\n",
      "Registered pointcloud_0180.pcd -> pointcloud_0184.pcd | Fitness: 0.9885\n",
      "Registered pointcloud_0184.pcd -> pointcloud_0188.pcd | Fitness: 0.9891\n",
      "Registered pointcloud_0188.pcd -> pointcloud_0192.pcd | Fitness: 0.9819\n",
      "Registered pointcloud_0192.pcd -> pointcloud_0196.pcd | Fitness: 0.9887\n",
      "Registered pointcloud_0196.pcd -> pointcloud_0200.pcd | Fitness: 0.9844\n",
      "Registered pointcloud_0200.pcd -> pointcloud_0204.pcd | Fitness: 0.9878\n",
      "Registered pointcloud_0204.pcd -> pointcloud_0208.pcd | Fitness: 0.9838\n",
      "Registered pointcloud_0208.pcd -> pointcloud_0212.pcd | Fitness: 0.9891\n",
      "Registered pointcloud_0212.pcd -> pointcloud_0216.pcd | Fitness: 0.9860\n",
      "Registered pointcloud_0216.pcd -> pointcloud_0220.pcd | Fitness: 0.9864\n",
      "Registered pointcloud_0220.pcd -> pointcloud_0224.pcd | Fitness: 0.9805\n",
      "Registered pointcloud_0224.pcd -> pointcloud_0228.pcd | Fitness: 0.9917\n",
      "Registered pointcloud_0228.pcd -> pointcloud_0232.pcd | Fitness: 0.9853\n",
      "Registered pointcloud_0232.pcd -> pointcloud_0236.pcd | Fitness: 0.9860\n",
      "Registered pointcloud_0236.pcd -> pointcloud_0240.pcd | Fitness: 0.9901\n",
      "Registered pointcloud_0240.pcd -> pointcloud_0244.pcd | Fitness: 0.9886\n",
      "Registered pointcloud_0244.pcd -> pointcloud_0248.pcd | Fitness: 0.9892\n",
      "Registered pointcloud_0248.pcd -> pointcloud_0252.pcd | Fitness: 0.9898\n",
      "Registered pointcloud_0252.pcd -> pointcloud_0256.pcd | Fitness: 0.9887\n",
      "Registered pointcloud_0256.pcd -> pointcloud_0260.pcd | Fitness: 0.9888\n",
      "Registered pointcloud_0260.pcd -> pointcloud_0264.pcd | Fitness: 0.9879\n",
      "Registered pointcloud_0264.pcd -> pointcloud_0268.pcd | Fitness: 0.9842\n",
      "Registered pointcloud_0268.pcd -> pointcloud_0272.pcd | Fitness: 0.9869\n",
      "Registered pointcloud_0272.pcd -> pointcloud_0276.pcd | Fitness: 0.9900\n",
      "Registered pointcloud_0276.pcd -> pointcloud_0280.pcd | Fitness: 0.9886\n",
      "Registered pointcloud_0280.pcd -> pointcloud_0284.pcd | Fitness: 0.9866\n",
      "Registered pointcloud_0284.pcd -> pointcloud_0288.pcd | Fitness: 0.9881\n",
      "Registered pointcloud_0288.pcd -> pointcloud_0292.pcd | Fitness: 0.9906\n",
      "Registered pointcloud_0292.pcd -> pointcloud_0296.pcd | Fitness: 0.9888\n",
      "Registered pointcloud_0296.pcd -> pointcloud_0300.pcd | Fitness: 0.9880\n",
      "Registered pointcloud_0300.pcd -> pointcloud_0304.pcd | Fitness: 0.9897\n",
      "Registered pointcloud_0304.pcd -> pointcloud_0308.pcd | Fitness: 0.9894\n",
      "Registered pointcloud_0308.pcd -> pointcloud_0312.pcd | Fitness: 0.9889\n",
      "Registered pointcloud_0312.pcd -> pointcloud_0316.pcd | Fitness: 0.9881\n",
      "Registered pointcloud_0316.pcd -> pointcloud_0320.pcd | Fitness: 0.9864\n",
      "Registered pointcloud_0320.pcd -> pointcloud_0324.pcd | Fitness: 0.9925\n",
      "Registered pointcloud_0324.pcd -> pointcloud_0328.pcd | Fitness: 0.9911\n",
      "Registered pointcloud_0328.pcd -> pointcloud_0332.pcd | Fitness: 0.9853\n",
      "Registered pointcloud_0332.pcd -> pointcloud_0336.pcd | Fitness: 0.9861\n",
      "Registered pointcloud_0336.pcd -> pointcloud_0340.pcd | Fitness: 0.9896\n",
      "Registered pointcloud_0340.pcd -> pointcloud_0344.pcd | Fitness: 0.9883\n",
      "Registered pointcloud_0344.pcd -> pointcloud_0348.pcd | Fitness: 0.9846\n",
      "Registered pointcloud_0348.pcd -> pointcloud_0352.pcd | Fitness: 0.9849\n",
      "Registered pointcloud_0352.pcd -> pointcloud_0356.pcd | Fitness: 0.9896\n",
      "Registered pointcloud_0356.pcd -> pointcloud_0360.pcd | Fitness: 0.9900\n",
      "Registered pointcloud_0360.pcd -> pointcloud_0364.pcd | Fitness: 0.9872\n",
      "Registered pointcloud_0364.pcd -> pointcloud_0368.pcd | Fitness: 0.9854\n",
      "Registered pointcloud_0368.pcd -> pointcloud_0372.pcd | Fitness: 0.9884\n",
      "Registered pointcloud_0372.pcd -> pointcloud_0376.pcd | Fitness: 0.9901\n",
      "Registered pointcloud_0376.pcd -> pointcloud_0380.pcd | Fitness: 0.9832\n",
      "Registered pointcloud_0380.pcd -> pointcloud_0384.pcd | Fitness: 0.9874\n",
      "Registered pointcloud_0384.pcd -> pointcloud_0388.pcd | Fitness: 0.9847\n",
      "Registered pointcloud_0388.pcd -> pointcloud_0392.pcd | Fitness: 0.9891\n",
      "Registered pointcloud_0392.pcd -> pointcloud_0396.pcd | Fitness: 0.9828\n",
      "Saving merged point cloud to 'registered_map.pcd'\n",
      "Saving trajectory to 'trajectory.csv'\n"
     ]
    },
    {
     "data": {
      "image/png": "[encoded data removed]",
      "text/plain": [
       "<Figure size 640x480 with 1 Axes>"
      ]
     },
     "metadata": {},
     "output_type": "display_data"
    }
   ],
   "source": [
    "import open3d as o3d\n",
    "import numpy as np\n",
    "import os\n",
    "import csv\n",
    "import matplotlib.pyplot as plt\n",
    "\n",
    "# --- CONFIG ---\n",
    "base_path = r\"selected_pcds\"  # folder with the 100 .pcd files\n",
    "file_names = [f\"pointcloud_{i:04d}.pcd\" for i in range(0, 400, 4)]  # pointcloud_0000.pcd to pointcloud_0396.pcd\n",
    "\n",
    "# --- Storage ---\n",
    "global_pcds = []\n",
    "global_poses = [np.eye(4)]  # first pose is identity\n",
    "trajectory = [np.array([0, 0, 0])]  # initial position\n",
    "\n",
    "# --- ICP Parameters ---\n",
    "voxel_size = 0.05\n",
    "threshold = 0.1\n",
    "\n",
    "# --- Helper: run point-to-point ICP ---\n",
    "def run_icp(source, target, init=np.eye(4), threshold=0.1):\n",
    "    return o3d.pipelines.registration.registration_icp(\n",
    "        source, target, threshold, init,\n",
    "        o3d.pipelines.registration.TransformationEstimationPointToPoint()\n",
    "    )\n",
    "\n",
    "# --- Process All Consecutive Pairs ---\n",
    "for i in range(len(file_names) - 1):\n",
    "    source_file = os.path.join(base_path, file_names[i])\n",
    "    target_file = os.path.join(base_path, file_names[i+1])\n",
    "\n",
    "    source = o3d.io.read_point_cloud(source_file).voxel_down_sample(voxel_size)\n",
    "    target = o3d.io.read_point_cloud(target_file).voxel_down_sample(voxel_size)\n",
    "\n",
    "    # Estimate normals (optional but helps)\n",
    "    source.estimate_normals()\n",
    "    target.estimate_normals()\n",
    "\n",
    "    # Use identity as initial guess\n",
    "    icp_result = run_icp(source, target, threshold=threshold)\n",
    "\n",
    "    # Get last global transformation\n",
    "    last_pose = global_poses[-1]\n",
    "    current_pose = icp_result.transformation @ last_pose\n",
    "    global_poses.append(current_pose)\n",
    "\n",
    "    # Load original source cloud and transform it\n",
    "    original = o3d.io.read_point_cloud(source_file)\n",
    "    original.transform(last_pose)\n",
    "    global_pcds.append(original)\n",
    "\n",
    "    # Extract position from transformation\n",
    "    translation = current_pose[:3, 3]\n",
    "    trajectory.append(translation)\n",
    "\n",
    "    print(f\"Registered {file_names[i]} -> {file_names[i+1]} | Fitness: {icp_result.fitness:.4f}\")\n",
    "\n",
    "# --- Add the last point cloud ---\n",
    "final_pcd = o3d.io.read_point_cloud(os.path.join(base_path, file_names[-1]))\n",
    "final_pcd.transform(global_poses[-1])\n",
    "global_pcds.append(final_pcd)\n",
    "\n",
    "# --- Merge all into one registered map ---\n",
    "combined = global_pcds[0]\n",
    "for pc in global_pcds[1:]:\n",
    "    combined += pc\n",
    "\n",
    "print(\"Saving merged point cloud to 'registered_map.pcd'\")\n",
    "o3d.io.write_point_cloud(\"registered_map.pcd\", combined)\n",
    "\n",
    "# --- Save trajectory as CSV ---\n",
    "print(\"Saving trajectory to 'trajectory.csv'\")\n",
    "with open(\"trajectory.csv\", \"w\", newline=\"\") as f:\n",
    "    writer = csv.writer(f)\n",
    "    writer.writerow([\"x\", \"y\", \"z\"])\n",
    "    for point in trajectory:\n",
    "        writer.writerow(point)\n",
    "\n",
    "# --- Plot trajectory ---\n",
    "trajectory_np = np.array(trajectory)\n",
    "fig = plt.figure()\n",
    "ax = fig.add_subplot(111, projection='3d')\n",
    "ax.plot(trajectory_np[:, 0], trajectory_np[:, 1], trajectory_np[:, 2], marker='o')\n",
    "ax.set_title(\"Estimated 3D Trajectory of TurtleBot\")\n",
    "ax.set_xlabel(\"X\")\n",
    "ax.set_ylabel(\"Y\")\n",
    "ax.set_zlabel(\"Z\")\n",
    "plt.show()"
   ]
  },
  {
   "cell_type": "code",
   "execution_count": null,
   "metadata": {},
   "outputs": [],
   "source": []
  }
 ],
 "metadata": {
  "kernelspec": {
   "display_name": ".venv",
   "language": "python",
   "name": "python3"
  },
  "language_info": {
   "codemirror_mode": {
    "name": "ipython",
    "version": 3
   },
   "file_extension": ".py",
   "mimetype": "text/x-python",
   "name": "python",
   "nbconvert_exporter": "python",
   "pygments_lexer": "ipython3",
   "version": "3.12.0"
  }
 },
 "nbformat": 4,
 "nbformat_minor": 2
}
