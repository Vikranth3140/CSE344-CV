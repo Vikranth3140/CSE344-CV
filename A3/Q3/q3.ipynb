{
 "cells": [
  {
   "cell_type": "markdown",
   "id": "5f8c2d12",
   "metadata": {},
   "source": [
    "# Q3"
   ]
  },
  {
   "cell_type": "code",
   "execution_count": 2,
   "id": "617b7a7a",
   "metadata": {},
   "outputs": [
    {
     "name": "stdout",
     "output_type": "stream",
     "text": [
      "1.jpg: a dog is walking on a green carpet\n",
      "2.jpg: a small dog running across a green field\n",
      "3.jpg: the girls in the pool\n",
      "4.jpg: a bird perched on a plant\n",
      "5.jpg: a small dog standing on a stone ledge next to a pool\n",
      "6.jpg: a man riding a bike down the street\n",
      "7.jpg: a brown butterfly sitting on a green plant\n",
      "8.jpg: a man in a suit and tie sitting on a couch\n",
      "9.jpg: a duck drinking water from a pond\n",
      "10.jpg: a coffee machine with a cup of coffee\n"
     ]
    }
   ],
   "source": [
    "from PIL import Image\n",
    "from transformers import BlipProcessor, BlipForConditionalGeneration\n",
    "import torch\n",
    "\n",
    "# Load model and processor\n",
    "processor = BlipProcessor.from_pretrained(\"Salesforce/blip-image-captioning-base\")\n",
    "model = BlipForConditionalGeneration.from_pretrained(\"Salesforce/blip-image-captioning-base\")\n",
    "\n",
    "# Images path\n",
    "image_dir = \"Images\"\n",
    "\n",
    "# Loop images from 1 to 10 (Renamed)\n",
    "for i in range(1, 11):\n",
    "    image_path = f\"{image_dir}/{i}.jpg\"\n",
    "    try:\n",
    "        image = Image.open(image_path).convert(\"RGB\")\n",
    "\n",
    "        # Preprocess and generate caption\n",
    "        inputs = processor(images=image, return_tensors=\"pt\")\n",
    "        with torch.no_grad():\n",
    "            output = model.generate(**inputs)\n",
    "            caption = processor.decode(output[0], skip_special_tokens=True)\n",
    "\n",
    "        print(f\"{i}.jpg: {caption}\")\n",
    "    except Exception as e:\n",
    "        print(f\"Failed to process {i}.jpg: {e}\")"
   ]
  }
 ],
 "metadata": {
  "kernelspec": {
   "display_name": "base",
   "language": "python",
   "name": "python3"
  },
  "language_info": {
   "codemirror_mode": {
    "name": "ipython",
    "version": 3
   },
   "file_extension": ".py",
   "mimetype": "text/x-python",
   "name": "python",
   "nbconvert_exporter": "python",
   "pygments_lexer": "ipython3",
   "version": "3.12.7"
  }
 },
 "nbformat": 4,
 "nbformat_minor": 5
}
