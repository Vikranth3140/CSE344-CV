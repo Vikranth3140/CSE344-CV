{
 "cells": [
  {
   "cell_type": "code",
   "execution_count": 6,
   "id": "293c2484",
   "metadata": {},
   "outputs": [
    {
     "name": "stdout",
     "output_type": "stream",
     "text": [
      "Requirement already satisfied: future==0.18.2 in c:\\users\\vikra\\anaconda3\\lib\\site-packages (from -r Matcher\\requirements.txt (line 1)) (0.18.2)\n",
      "Requirement already satisfied: gradio==3.32.0 in c:\\users\\vikra\\anaconda3\\lib\\site-packages (from -r Matcher\\requirements.txt (line 2)) (3.32.0)\n",
      "Requirement already satisfied: gradio-client==0.2.5 in c:\\users\\vikra\\anaconda3\\lib\\site-packages (from -r Matcher\\requirements.txt (line 3)) (0.2.5)\n",
      "Collecting POT (from -r Matcher\\requirements.txt (line 11))\n",
      "  Downloading POT-0.9.5-cp312-cp312-win_amd64.whl.metadata (35 kB)\n",
      "Collecting omegaconf (from -r Matcher\\requirements.txt (line 12))\n",
      "  Downloading omegaconf-2.3.0-py3-none-any.whl.metadata (3.9 kB)\n",
      "Collecting iopath (from -r Matcher\\requirements.txt (line 13))\n",
      "  Downloading iopath-0.1.10.tar.gz (42 kB)\n",
      "  Preparing metadata (setup.py): started\n",
      "  Preparing metadata (setup.py): finished with status 'done'\n",
      "Requirement already satisfied: aiofiles in c:\\users\\vikra\\anaconda3\\lib\\site-packages (from gradio==3.32.0->-r Matcher\\requirements.txt (line 2)) (24.1.0)\n",
      "Requirement already satisfied: aiohttp in c:\\users\\vikra\\anaconda3\\lib\\site-packages (from gradio==3.32.0->-r Matcher\\requirements.txt (line 2)) (3.10.5)\n",
      "Requirement already satisfied: altair>=4.2.0 in c:\\users\\vikra\\anaconda3\\lib\\site-packages (from gradio==3.32.0->-r Matcher\\requirements.txt (line 2)) (5.0.1)\n",
      "Requirement already satisfied: fastapi in c:\\users\\vikra\\anaconda3\\lib\\site-packages (from gradio==3.32.0->-r Matcher\\requirements.txt (line 2)) (0.115.12)\n",
      "Requirement already satisfied: ffmpy in c:\\users\\vikra\\anaconda3\\lib\\site-packages (from gradio==3.32.0->-r Matcher\\requirements.txt (line 2)) (0.5.0)\n",
      "Requirement already satisfied: httpx in c:\\users\\vikra\\anaconda3\\lib\\site-packages (from gradio==3.32.0->-r Matcher\\requirements.txt (line 2)) (0.27.0)\n",
      "Requirement already satisfied: huggingface-hub>=0.13.0 in c:\\users\\vikra\\anaconda3\\lib\\site-packages (from gradio==3.32.0->-r Matcher\\requirements.txt (line 2)) (0.29.3)\n",
      "Requirement already satisfied: jinja2 in c:\\users\\vikra\\anaconda3\\lib\\site-packages (from gradio==3.32.0->-r Matcher\\requirements.txt (line 2)) (3.1.4)\n",
      "Requirement already satisfied: markdown-it-py>=2.0.0 in c:\\users\\vikra\\anaconda3\\lib\\site-packages (from markdown-it-py[linkify]>=2.0.0->gradio==3.32.0->-r Matcher\\requirements.txt (line 2)) (2.2.0)\n",
      "Requirement already satisfied: markupsafe in c:\\users\\vikra\\anaconda3\\lib\\site-packages (from gradio==3.32.0->-r Matcher\\requirements.txt (line 2)) (2.1.3)\n",
      "Requirement already satisfied: matplotlib in c:\\users\\vikra\\anaconda3\\lib\\site-packages (from gradio==3.32.0->-r Matcher\\requirements.txt (line 2)) (3.9.2)\n",
      "Requirement already satisfied: mdit-py-plugins<=0.3.3 in c:\\users\\vikra\\anaconda3\\lib\\site-packages (from gradio==3.32.0->-r Matcher\\requirements.txt (line 2)) (0.3.0)\n",
      "Requirement already satisfied: numpy in c:\\users\\vikra\\anaconda3\\lib\\site-packages (from gradio==3.32.0->-r Matcher\\requirements.txt (line 2)) (1.26.4)\n",
      "Requirement already satisfied: orjson in c:\\users\\vikra\\anaconda3\\lib\\site-packages (from gradio==3.32.0->-r Matcher\\requirements.txt (line 2)) (3.10.16)\n",
      "Requirement already satisfied: pandas in c:\\users\\vikra\\anaconda3\\lib\\site-packages (from gradio==3.32.0->-r Matcher\\requirements.txt (line 2)) (2.2.2)\n",
      "Requirement already satisfied: pillow in c:\\users\\vikra\\anaconda3\\lib\\site-packages (from gradio==3.32.0->-r Matcher\\requirements.txt (line 2)) (10.4.0)\n",
      "Requirement already satisfied: pydantic in c:\\users\\vikra\\anaconda3\\lib\\site-packages (from gradio==3.32.0->-r Matcher\\requirements.txt (line 2)) (2.11.2)\n",
      "Requirement already satisfied: pydub in c:\\users\\vikra\\anaconda3\\lib\\site-packages (from gradio==3.32.0->-r Matcher\\requirements.txt (line 2)) (0.25.1)\n",
      "Requirement already satisfied: pygments>=2.12.0 in c:\\users\\vikra\\anaconda3\\lib\\site-packages (from gradio==3.32.0->-r Matcher\\requirements.txt (line 2)) (2.15.1)\n",
      "Requirement already satisfied: python-multipart in c:\\users\\vikra\\anaconda3\\lib\\site-packages (from gradio==3.32.0->-r Matcher\\requirements.txt (line 2)) (0.0.20)\n",
      "Requirement already satisfied: pyyaml in c:\\users\\vikra\\anaconda3\\lib\\site-packages (from gradio==3.32.0->-r Matcher\\requirements.txt (line 2)) (6.0.1)\n",
      "Requirement already satisfied: requests in c:\\users\\vikra\\anaconda3\\lib\\site-packages (from gradio==3.32.0->-r Matcher\\requirements.txt (line 2)) (2.32.3)\n",
      "Requirement already satisfied: semantic-version in c:\\users\\vikra\\anaconda3\\lib\\site-packages (from gradio==3.32.0->-r Matcher\\requirements.txt (line 2)) (2.10.0)\n",
      "Requirement already satisfied: typing-extensions in c:\\users\\vikra\\anaconda3\\lib\\site-packages (from gradio==3.32.0->-r Matcher\\requirements.txt (line 2)) (4.13.1)\n",
      "Requirement already satisfied: uvicorn>=0.14.0 in c:\\users\\vikra\\anaconda3\\lib\\site-packages (from gradio==3.32.0->-r Matcher\\requirements.txt (line 2)) (0.34.1)\n",
      "Requirement already satisfied: websockets>=10.0 in c:\\users\\vikra\\anaconda3\\lib\\site-packages (from gradio==3.32.0->-r Matcher\\requirements.txt (line 2)) (15.0.1)\n",
      "Requirement already satisfied: fsspec in c:\\users\\vikra\\anaconda3\\lib\\site-packages (from gradio-client==0.2.5->-r Matcher\\requirements.txt (line 3)) (2024.6.1)\n",
      "Requirement already satisfied: packaging in c:\\users\\vikra\\anaconda3\\lib\\site-packages (from gradio-client==0.2.5->-r Matcher\\requirements.txt (line 3)) (24.1)\n",
      "Requirement already satisfied: scipy>=1.6 in c:\\users\\vikra\\anaconda3\\lib\\site-packages (from POT->-r Matcher\\requirements.txt (line 11)) (1.13.1)\n",
      "Collecting antlr4-python3-runtime==4.9.* (from omegaconf->-r Matcher\\requirements.txt (line 12))\n",
      "  Downloading antlr4-python3-runtime-4.9.3.tar.gz (117 kB)\n",
      "  Preparing metadata (setup.py): started\n",
      "  Preparing metadata (setup.py): finished with status 'done'\n",
      "Requirement already satisfied: tqdm in c:\\users\\vikra\\anaconda3\\lib\\site-packages (from iopath->-r Matcher\\requirements.txt (line 13)) (4.66.5)\n",
      "Collecting portalocker (from iopath->-r Matcher\\requirements.txt (line 13))\n",
      "  Downloading portalocker-3.1.1-py3-none-any.whl.metadata (8.6 kB)\n",
      "Requirement already satisfied: jsonschema>=3.0 in c:\\users\\vikra\\anaconda3\\lib\\site-packages (from altair>=4.2.0->gradio==3.32.0->-r Matcher\\requirements.txt (line 2)) (4.23.0)\n",
      "Requirement already satisfied: toolz in c:\\users\\vikra\\anaconda3\\lib\\site-packages (from altair>=4.2.0->gradio==3.32.0->-r Matcher\\requirements.txt (line 2)) (0.12.0)\n",
      "Requirement already satisfied: filelock in c:\\users\\vikra\\anaconda3\\lib\\site-packages (from huggingface-hub>=0.13.0->gradio==3.32.0->-r Matcher\\requirements.txt (line 2)) (3.13.1)\n",
      "Requirement already satisfied: mdurl~=0.1 in c:\\users\\vikra\\anaconda3\\lib\\site-packages (from markdown-it-py>=2.0.0->markdown-it-py[linkify]>=2.0.0->gradio==3.32.0->-r Matcher\\requirements.txt (line 2)) (0.1.0)\n",
      "Requirement already satisfied: linkify-it-py<3,>=1 in c:\\users\\vikra\\anaconda3\\lib\\site-packages (from markdown-it-py[linkify]>=2.0.0->gradio==3.32.0->-r Matcher\\requirements.txt (line 2)) (2.0.0)\n",
      "Requirement already satisfied: python-dateutil>=2.8.2 in c:\\users\\vikra\\anaconda3\\lib\\site-packages (from pandas->gradio==3.32.0->-r Matcher\\requirements.txt (line 2)) (2.9.0.post0)\n",
      "Requirement already satisfied: pytz>=2020.1 in c:\\users\\vikra\\anaconda3\\lib\\site-packages (from pandas->gradio==3.32.0->-r Matcher\\requirements.txt (line 2)) (2024.1)\n",
      "Requirement already satisfied: tzdata>=2022.7 in c:\\users\\vikra\\anaconda3\\lib\\site-packages (from pandas->gradio==3.32.0->-r Matcher\\requirements.txt (line 2)) (2023.3)\n",
      "Requirement already satisfied: colorama in c:\\users\\vikra\\anaconda3\\lib\\site-packages (from tqdm->iopath->-r Matcher\\requirements.txt (line 13)) (0.4.6)\n",
      "Requirement already satisfied: click>=7.0 in c:\\users\\vikra\\anaconda3\\lib\\site-packages (from uvicorn>=0.14.0->gradio==3.32.0->-r Matcher\\requirements.txt (line 2)) (8.1.7)\n",
      "Requirement already satisfied: h11>=0.8 in c:\\users\\vikra\\anaconda3\\lib\\site-packages (from uvicorn>=0.14.0->gradio==3.32.0->-r Matcher\\requirements.txt (line 2)) (0.14.0)\n",
      "Requirement already satisfied: aiohappyeyeballs>=2.3.0 in c:\\users\\vikra\\anaconda3\\lib\\site-packages (from aiohttp->gradio==3.32.0->-r Matcher\\requirements.txt (line 2)) (2.4.0)\n",
      "Requirement already satisfied: aiosignal>=1.1.2 in c:\\users\\vikra\\anaconda3\\lib\\site-packages (from aiohttp->gradio==3.32.0->-r Matcher\\requirements.txt (line 2)) (1.2.0)\n",
      "Requirement already satisfied: attrs>=17.3.0 in c:\\users\\vikra\\anaconda3\\lib\\site-packages (from aiohttp->gradio==3.32.0->-r Matcher\\requirements.txt (line 2)) (23.1.0)\n",
      "Requirement already satisfied: frozenlist>=1.1.1 in c:\\users\\vikra\\anaconda3\\lib\\site-packages (from aiohttp->gradio==3.32.0->-r Matcher\\requirements.txt (line 2)) (1.4.0)\n",
      "Requirement already satisfied: multidict<7.0,>=4.5 in c:\\users\\vikra\\anaconda3\\lib\\site-packages (from aiohttp->gradio==3.32.0->-r Matcher\\requirements.txt (line 2)) (6.0.4)\n",
      "Requirement already satisfied: yarl<2.0,>=1.0 in c:\\users\\vikra\\anaconda3\\lib\\site-packages (from aiohttp->gradio==3.32.0->-r Matcher\\requirements.txt (line 2)) (1.11.0)\n",
      "Requirement already satisfied: starlette<0.47.0,>=0.40.0 in c:\\users\\vikra\\anaconda3\\lib\\site-packages (from fastapi->gradio==3.32.0->-r Matcher\\requirements.txt (line 2)) (0.46.2)\n",
      "Requirement already satisfied: annotated-types>=0.6.0 in c:\\users\\vikra\\anaconda3\\lib\\site-packages (from pydantic->gradio==3.32.0->-r Matcher\\requirements.txt (line 2)) (0.6.0)\n",
      "Requirement already satisfied: pydantic-core==2.33.1 in c:\\users\\vikra\\anaconda3\\lib\\site-packages (from pydantic->gradio==3.32.0->-r Matcher\\requirements.txt (line 2)) (2.33.1)\n",
      "Requirement already satisfied: typing-inspection>=0.4.0 in c:\\users\\vikra\\anaconda3\\lib\\site-packages (from pydantic->gradio==3.32.0->-r Matcher\\requirements.txt (line 2)) (0.4.0)\n",
      "Requirement already satisfied: anyio in c:\\users\\vikra\\anaconda3\\lib\\site-packages (from httpx->gradio==3.32.0->-r Matcher\\requirements.txt (line 2)) (4.2.0)\n",
      "Requirement already satisfied: certifi in c:\\users\\vikra\\anaconda3\\lib\\site-packages (from httpx->gradio==3.32.0->-r Matcher\\requirements.txt (line 2)) (2024.8.30)\n",
      "Requirement already satisfied: httpcore==1.* in c:\\users\\vikra\\anaconda3\\lib\\site-packages (from httpx->gradio==3.32.0->-r Matcher\\requirements.txt (line 2)) (1.0.2)\n",
      "Requirement already satisfied: idna in c:\\users\\vikra\\anaconda3\\lib\\site-packages (from httpx->gradio==3.32.0->-r Matcher\\requirements.txt (line 2)) (3.7)\n",
      "Requirement already satisfied: sniffio in c:\\users\\vikra\\anaconda3\\lib\\site-packages (from httpx->gradio==3.32.0->-r Matcher\\requirements.txt (line 2)) (1.3.0)\n",
      "Requirement already satisfied: contourpy>=1.0.1 in c:\\users\\vikra\\anaconda3\\lib\\site-packages (from matplotlib->gradio==3.32.0->-r Matcher\\requirements.txt (line 2)) (1.2.0)\n",
      "Requirement already satisfied: cycler>=0.10 in c:\\users\\vikra\\anaconda3\\lib\\site-packages (from matplotlib->gradio==3.32.0->-r Matcher\\requirements.txt (line 2)) (0.11.0)\n",
      "Requirement already satisfied: fonttools>=4.22.0 in c:\\users\\vikra\\anaconda3\\lib\\site-packages (from matplotlib->gradio==3.32.0->-r Matcher\\requirements.txt (line 2)) (4.51.0)\n",
      "Requirement already satisfied: kiwisolver>=1.3.1 in c:\\users\\vikra\\anaconda3\\lib\\site-packages (from matplotlib->gradio==3.32.0->-r Matcher\\requirements.txt (line 2)) (1.4.4)\n",
      "Requirement already satisfied: pyparsing>=2.3.1 in c:\\users\\vikra\\anaconda3\\lib\\site-packages (from matplotlib->gradio==3.32.0->-r Matcher\\requirements.txt (line 2)) (3.1.2)\n",
      "Requirement already satisfied: pywin32>=226 in c:\\users\\vikra\\anaconda3\\lib\\site-packages (from portalocker->iopath->-r Matcher\\requirements.txt (line 13)) (305.1)\n",
      "Requirement already satisfied: charset-normalizer<4,>=2 in c:\\users\\vikra\\anaconda3\\lib\\site-packages (from requests->gradio==3.32.0->-r Matcher\\requirements.txt (line 2)) (3.3.2)\n",
      "Requirement already satisfied: urllib3<3,>=1.21.1 in c:\\users\\vikra\\anaconda3\\lib\\site-packages (from requests->gradio==3.32.0->-r Matcher\\requirements.txt (line 2)) (2.2.3)\n",
      "Requirement already satisfied: jsonschema-specifications>=2023.03.6 in c:\\users\\vikra\\anaconda3\\lib\\site-packages (from jsonschema>=3.0->altair>=4.2.0->gradio==3.32.0->-r Matcher\\requirements.txt (line 2)) (2023.7.1)\n",
      "Requirement already satisfied: referencing>=0.28.4 in c:\\users\\vikra\\anaconda3\\lib\\site-packages (from jsonschema>=3.0->altair>=4.2.0->gradio==3.32.0->-r Matcher\\requirements.txt (line 2)) (0.30.2)\n",
      "Requirement already satisfied: rpds-py>=0.7.1 in c:\\users\\vikra\\anaconda3\\lib\\site-packages (from jsonschema>=3.0->altair>=4.2.0->gradio==3.32.0->-r Matcher\\requirements.txt (line 2)) (0.10.6)\n",
      "Requirement already satisfied: uc-micro-py in c:\\users\\vikra\\anaconda3\\lib\\site-packages (from linkify-it-py<3,>=1->markdown-it-py[linkify]>=2.0.0->gradio==3.32.0->-r Matcher\\requirements.txt (line 2)) (1.0.1)\n",
      "Requirement already satisfied: six>=1.5 in c:\\users\\vikra\\anaconda3\\lib\\site-packages (from python-dateutil>=2.8.2->pandas->gradio==3.32.0->-r Matcher\\requirements.txt (line 2)) (1.16.0)\n",
      "Downloading POT-0.9.5-cp312-cp312-win_amd64.whl (347 kB)\n",
      "Downloading omegaconf-2.3.0-py3-none-any.whl (79 kB)\n",
      "Downloading portalocker-3.1.1-py3-none-any.whl (19 kB)\n",
      "Building wheels for collected packages: antlr4-python3-runtime, iopath\n",
      "  Building wheel for antlr4-python3-runtime (setup.py): started\n",
      "  Building wheel for antlr4-python3-runtime (setup.py): finished with status 'done'\n",
      "  Created wheel for antlr4-python3-runtime: filename=antlr4_python3_runtime-4.9.3-py3-none-any.whl size=144577 sha256=e09f022646c9843843b0d69a3a1204ae620dced30ce74e30bf4b16f063a4162c\n",
      "  Stored in directory: c:\\users\\vikra\\appdata\\local\\pip\\cache\\wheels\\1f\\be\\48\\13754633f1d08d1fbfc60d5e80ae1e5d7329500477685286cd\n",
      "  Building wheel for iopath (setup.py): started\n",
      "  Building wheel for iopath (setup.py): finished with status 'done'\n",
      "  Created wheel for iopath: filename=iopath-0.1.10-py3-none-any.whl size=31539 sha256=4fef2fec1978d59174568056502eff434a50a4efe50950d1423d2712cbe4aecb\n",
      "  Stored in directory: c:\\users\\vikra\\appdata\\local\\pip\\cache\\wheels\\7c\\96\\04\\4f5f31ff812f684f69f40cb1634357812220aac58d4698048c\n",
      "Successfully built antlr4-python3-runtime iopath\n",
      "Installing collected packages: antlr4-python3-runtime, portalocker, omegaconf, POT, iopath\n",
      "Successfully installed POT-0.9.5 antlr4-python3-runtime-4.9.3 iopath-0.1.10 omegaconf-2.3.0 portalocker-3.1.1\n",
      "Note: you may need to restart the kernel to use updated packages.\n"
     ]
    }
   ],
   "source": [
    "# pip install -r Matcher\\requirements.txt"
   ]
  },
  {
   "cell_type": "code",
   "execution_count": 2,
   "id": "8f3b80a5",
   "metadata": {},
   "outputs": [],
   "source": [
    "import torch"
   ]
  },
  {
   "cell_type": "code",
   "execution_count": 3,
   "id": "6df17373",
   "metadata": {},
   "outputs": [
    {
     "name": "stderr",
     "output_type": "stream",
     "text": [
      "Downloading: \"https://github.com/facebookresearch/dinov2/zipball/main\" to C:\\Users\\vikra/.cache\\torch\\hub\\main.zip\n",
      "C:\\Users\\vikra/.cache\\torch\\hub\\facebookresearch_dinov2_main\\dinov2\\layers\\swiglu_ffn.py:51: UserWarning: xFormers is not available (SwiGLU)\n",
      "  warnings.warn(\"xFormers is not available (SwiGLU)\")\n",
      "C:\\Users\\vikra/.cache\\torch\\hub\\facebookresearch_dinov2_main\\dinov2\\layers\\attention.py:33: UserWarning: xFormers is not available (Attention)\n",
      "  warnings.warn(\"xFormers is not available (Attention)\")\n",
      "C:\\Users\\vikra/.cache\\torch\\hub\\facebookresearch_dinov2_main\\dinov2\\layers\\block.py:40: UserWarning: xFormers is not available (Block)\n",
      "  warnings.warn(\"xFormers is not available (Block)\")\n",
      "Downloading: \"https://dl.fbaipublicfiles.com/dinov2/dinov2_vitl14/dinov2_vitl14_pretrain.pth\" to C:\\Users\\vikra/.cache\\torch\\hub\\checkpoints\\dinov2_vitl14_pretrain.pth\n",
      "100%|██████████| 1.13G/1.13G [03:31<00:00, 5.75MB/s] \n"
     ]
    }
   ],
   "source": [
    "dinov2_vitl14 = torch.hub.load('facebookresearch/dinov2', 'dinov2_vitl14')"
   ]
  },
  {
   "cell_type": "code",
   "execution_count": null,
   "id": "c4ce5bcd",
   "metadata": {},
   "outputs": [],
   "source": []
  }
 ],
 "metadata": {
  "kernelspec": {
   "display_name": "base",
   "language": "python",
   "name": "python3"
  },
  "language_info": {
   "codemirror_mode": {
    "name": "ipython",
    "version": 3
   },
   "file_extension": ".py",
   "mimetype": "text/x-python",
   "name": "python",
   "nbconvert_exporter": "python",
   "pygments_lexer": "ipython3",
   "version": "3.12.7"
  }
 },
 "nbformat": 4,
 "nbformat_minor": 5
}
