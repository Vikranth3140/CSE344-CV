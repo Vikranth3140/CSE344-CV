{
 "cells": [
  {
   "cell_type": "markdown",
   "id": "a71437ad",
   "metadata": {},
   "source": [
    "# Q2"
   ]
  },
  {
   "cell_type": "code",
   "execution_count": null,
   "id": "79bb9105",
   "metadata": {},
   "outputs": [],
   "source": [
    "# pip install transformers torchvision pillow"
   ]
  },
  {
   "cell_type": "code",
   "execution_count": null,
   "id": "1ca880ba",
   "metadata": {},
   "outputs": [
    {
     "name": "stderr",
     "output_type": "stream",
     "text": [
      "c:\\Users\\vikra\\anaconda3\\Lib\\site-packages\\transformers\\generation\\utils.py:1375: UserWarning: Using the model-agnostic default `max_length` (=20) to control the generation length. We recommend setting `max_new_tokens` to control the maximum length of the generation.\n",
      "  warnings.warn(\n"
     ]
    },
    {
     "name": "stdout",
     "output_type": "stream",
     "text": [
      "Question: Where is the dog present in the image?\n",
      "Answer: in man ' s arms\n",
      "\n",
      "Question: Where is the man present in the image?\n",
      "Answer: living room\n",
      "\n"
     ]
    }
   ],
   "source": [
    "from transformers import BlipProcessor, BlipForQuestionAnswering\n",
    "from PIL import Image\n",
    "\n",
    "# Load model and processor\n",
    "processor = BlipProcessor.from_pretrained(\"Salesforce/blip-vqa-base\")\n",
    "model = BlipForQuestionAnswering.from_pretrained(\"Salesforce/blip-vqa-base\")\n",
    "\n",
    "# Load image\n",
    "image = Image.open(\"sample_image.jpg\").convert('RGB')\n",
    "\n",
    "# Questions\n",
    "questions = [\n",
    "    \"Where is the dog present in the image?\",\n",
    "    \"Where is the man present in the image?\"\n",
    "]\n",
    "\n",
    "for question in questions:\n",
    "    inputs = processor(image, question, return_tensors=\"pt\")\n",
    "    out = model.generate(**inputs)\n",
    "    answer = processor.decode(out[0], skip_special_tokens=True)\n",
    "\n",
    "    print(\"Question:\", question)\n",
    "    print(\"Answer:\", answer)\n",
    "    print()"
   ]
  },
  {
   "cell_type": "code",
   "execution_count": null,
   "id": "50414a30",
   "metadata": {},
   "outputs": [],
   "source": []
  }
 ],
 "metadata": {
  "kernelspec": {
   "display_name": "base",
   "language": "python",
   "name": "python3"
  },
  "language_info": {
   "codemirror_mode": {
    "name": "ipython",
    "version": 3
   },
   "file_extension": ".py",
   "mimetype": "text/x-python",
   "name": "python",
   "nbconvert_exporter": "python",
   "pygments_lexer": "ipython3",
   "version": "3.12.7"
  }
 },
 "nbformat": 4,
 "nbformat_minor": 5
}
